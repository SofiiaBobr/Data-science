{
  "nbformat": 4,
  "nbformat_minor": 0,
  "metadata": {
    "colab": {
      "provenance": [],
      "include_colab_link": true
    },
    "kernelspec": {
      "name": "python3",
      "display_name": "Python 3"
    },
    "language_info": {
      "name": "python"
    }
  },
  "cells": [
    {
      "cell_type": "markdown",
      "metadata": {
        "id": "view-in-github",
        "colab_type": "text"
      },
      "source": [
        "<a href=\"https://colab.research.google.com/github/SofiiaBobr/Data-science/blob/main/%D0%91%D0%BE%D0%B1%D1%80%D1%96%D0%B2%D0%B5%D1%86%D1%8C_%D0%A1%D0%BE%D1%84%D1%96%D1%8F_%D0%94%D0%BE%D0%BC%D0%B0%D1%88%D0%BD%D1%94_%D0%B7%D0%B0%D0%B2%D0%B4%D0%B0%D0%BD%D0%BD%D1%8F_7.ipynb\" target=\"_parent\"><img src=\"https://colab.research.google.com/assets/colab-badge.svg\" alt=\"Open In Colab\"/></a>"
      ]
    },
    {
      "cell_type": "markdown",
      "source": [
        "# 📘 Домашнє завдання №7\n",
        "**Заняття 19. Бази даних для Data Science — Частина 2**\n",
        "\n",
        "❗ У назві файлу має бути ваше ім’я з навчальної платформи."
      ],
      "metadata": {
        "id": "TWTBy2g5p4qs"
      }
    },
    {
      "cell_type": "markdown",
      "source": [
        "## Завдання 1: Створення локальної бази даних — 10 балів\n",
        "### 1.1. Створити локальну базу даних `database.db`, в якій буде три таблиці: — 5 балів\n",
        "\n"
      ],
      "metadata": {
        "id": "kJy1eSOGqg1y"
      }
    },
    {
      "cell_type": "code",
      "source": [
        "import sqlite3\n",
        "import pandas as pd"
      ],
      "metadata": {
        "id": "rlpPr3fcwvCP"
      },
      "execution_count": null,
      "outputs": []
    },
    {
      "cell_type": "code",
      "source": [
        "\n",
        "conn = sqlite3.connect('database.db')\n",
        "cursor = conn.cursor()\n",
        "\n",
        "\n",
        "cursor.execute('''\n",
        "CREATE TABLE IF NOT EXISTS vehicles (\n",
        "    id INTEGER PRIMARY KEY,\n",
        "    vehicle_type TEXT,\n",
        "    milleage INTEGER,\n",
        "    max_speed INTEGER,\n",
        "    passenger_count INTEGER,\n",
        "    category TEXT\n",
        ")\n",
        "''')\n",
        "\n",
        "conn.commit()\n"
      ],
      "metadata": {
        "id": "6F5fJzhuxA23"
      },
      "execution_count": null,
      "outputs": []
    },
    {
      "cell_type": "markdown",
      "source": [
        "### Табличка #1 — `vehicles`.\n",
        "\n",
        "Це таблиця, яка зберігає інформацію про всі транспортні засоби, що зареєстровані в системі. Кожен транспорт має унікальний ID, тип, пробіг, максимальну швидкість, кількість пасажирів та категорію, до якої він належить.\n",
        "\n",
        "\n",
        "| Назва колонки     | Тип даних | Опис                                              |\n",
        "|-------------------|-----------|---------------------------------------------------|\n",
        "| `id`              | INTEGER   | Первинний ключ                                     |\n",
        "| `vehicle_type`    | TEXT      | Тип транспорту (мотоцикл, легковий, вантажівка)  |\n",
        "| `milleage`        | INTEGER   | Пробіг у км                                       |\n",
        "| `max_speed`       | INTEGER   | Максимальна швидкість                             |\n",
        "| `passenger_count` | INTEGER   | Кількість пасажирів                               |\n",
        "| `category`        | TEXT      | Категорія (A — мото, B — легковий, C — вантажний) |\n"
      ],
      "metadata": {
        "id": "dNpfcZTup4mB"
      }
    },
    {
      "cell_type": "code",
      "source": [
        "cursor.execute('''\n",
        "CREATE TABLE IF NOT EXISTS vehicles (\n",
        "    id INTEGER PRIMARY KEY,\n",
        "    vehicle_type TEXT,\n",
        "    milleage INTEGER,\n",
        "    max_speed INTEGER,\n",
        "    passenger_count INTEGER,\n",
        "    category TEXT\n",
        ")\n",
        "''')\n",
        "conn.commit()\n"
      ],
      "metadata": {
        "id": "o7w_bgaCwsYO"
      },
      "execution_count": null,
      "outputs": []
    },
    {
      "cell_type": "markdown",
      "source": [
        "### Табличка #2 — `drivers`.\n",
        "Це таблиця водіїв, які мають певну категорію прав і керують конкретними автомобілями. Кожен водій закріплений за конкретним транспортним засобом — через `vehicle_id`, який є зовнішнім ключем на таблицю `vehicles`.\n",
        "\n",
        "\n",
        "| Назва колонки     | Тип даних | Опис                                               |\n",
        "|-------------------|-----------|----------------------------------------------------|\n",
        "| `id`              | INTEGER   | Первинний ключ                                      |\n",
        "| `vehicle_id`      | INTEGER   | Зовнішній ключ до `vehicles.id`                    |\n",
        "| `driver_name`     | TEXT      | Ім'я водія                                          |\n",
        "| `driver_category` | TEXT      | Категорія прав водія (A, B, C)                      |\n"
      ],
      "metadata": {
        "id": "-rHyLDYOp4dT"
      }
    },
    {
      "cell_type": "code",
      "execution_count": null,
      "metadata": {
        "id": "gjdBdaL-p0Fc"
      },
      "outputs": [],
      "source": [
        "cursor.execute('''\n",
        "CREATE TABLE IF NOT EXISTS drivers (\n",
        "    id INTEGER PRIMARY KEY,\n",
        "    vehicle_id INTEGER,\n",
        "    driver_name TEXT,\n",
        "    driver_category TEXT,\n",
        "    FOREIGN KEY (vehicle_id) REFERENCES vehicles(id)\n",
        ")\n",
        "''')\n",
        "conn.commit()\n"
      ]
    },
    {
      "cell_type": "markdown",
      "source": [
        "### Табличка #3 — `categories_info`.\n",
        "\n",
        "Ця таблиця описує, які дороги дозволено для кожної категорії транспортного засобу. Наприклад, категорія A може мати доступ лише до доріг CR22 і AT12.\n",
        "\n",
        "> З нею ви будете працювати пізніше для фільтрації водіїв, які можуть їздити по лише двох дорогах.\n",
        "\n",
        "| Назва колонки       | Тип даних | Опис                                              |\n",
        "|---------------------|-----------|---------------------------------------------------|\n",
        "| `id`                | INTEGER   | Первинний ключ                                     |\n",
        "| `category`          | TEXT      | Категорія транспортного засобу (A, B, C)          |\n",
        "| `permitted_roads`   | TEXT      | Дозволені дороги для цієї категорії               |\n"
      ],
      "metadata": {
        "id": "-cvpnRqs0HXi"
      }
    },
    {
      "cell_type": "code",
      "source": [
        "cursor.execute('''\n",
        "CREATE TABLE IF NOT EXISTS categories_info (\n",
        "    id INTEGER PRIMARY KEY,\n",
        "    category TEXT,\n",
        "    permitted_roads TEXT\n",
        ")\n",
        "''')\n",
        "conn.commit()\n"
      ],
      "metadata": {
        "id": "xtRqmzd11Dv5"
      },
      "execution_count": null,
      "outputs": []
    },
    {
      "cell_type": "markdown",
      "source": [
        "### 1.2. Заповнення даними таблиць - 5 балів\n",
        "Тепер заповнимо створені таблиці даними відповідно до умов завдання.   \n",
        "*Не принципово, яким метод створення бази даних та заповнення її значеннями ви скористуєтесь.*   \n",
        "Умови ⬇⬇⬇"
      ],
      "metadata": {
        "id": "vRmPEfl81W2o"
      }
    },
    {
      "cell_type": "markdown",
      "source": [
        "### 🗂️ Таблиця `vehicles`\n",
        "\n",
        "📌 Умови:\n",
        "- Усього має бути **20 різних записів**.\n",
        "- За категоріями має бути:\n",
        "  - **3** записи — категорія **A** (мотоцикли)\n",
        "  - **12** записів — категорія **B** (легкові)\n",
        "  - **5** записів — категорія **C** (вантажівки)\n",
        "\n",
        "> ⚠️ **Зверніть увагу!**\n",
        "> При створенні таблиці `vehicles`, переконайтесь, що `category` відповідає `vehicle_type`:\n",
        "> - Категорія **A** — відповідає **мотоциклу**\n",
        "> - Категорія **B** — відповідає **легковому авто**\n",
        "> - Категорія **C** — відповідає **вантажівці**\n",
        "\n",
        "💡 Порада: можете використати `random.choice`, `range()`"
      ],
      "metadata": {
        "id": "mnB0FILM1EZl"
      }
    },
    {
      "cell_type": "code",
      "source": [
        "import random\n",
        "\n",
        "\n",
        "categories = {\n",
        "    'A': 'мотоцикл',\n",
        "    'B': 'легковий',\n",
        "    'C': 'вантажівка'\n",
        "}\n",
        "\n",
        "vehicles_data = []\n",
        "\n",
        "\n",
        "for _ in range(3):\n",
        "    vehicles_data.append((\n",
        "        categories['A'],\n",
        "        random.randint(5000, 50000),    # пробіг км\n",
        "        random.randint(100, 180),       # max швидкість\n",
        "        random.randint(1, 2),           # кількість пасажирів\n",
        "        'A'\n",
        "    ))\n",
        "\n",
        "\n",
        "for _ in range(12):\n",
        "    vehicles_data.append((\n",
        "        categories['B'],\n",
        "        random.randint(20000, 200000),\n",
        "        random.randint(120, 240),\n",
        "        random.randint(4, 7),\n",
        "        'B'\n",
        "    ))\n",
        "\n",
        "\n",
        "for _ in range(5):\n",
        "    vehicles_data.append((\n",
        "        categories['C'],\n",
        "        random.randint(50000, 500000),\n",
        "        random.randint(80, 140),\n",
        "        random.randint(2, 3),\n",
        "        'C'\n",
        "    ))\n",
        "\n",
        "\n",
        "cursor.executemany('''\n",
        "    INSERT INTO vehicles (vehicle_type, milleage, max_speed, passenger_count, category)\n",
        "    VALUES (?, ?, ?, ?, ?)\n",
        "''', vehicles_data)\n",
        "\n",
        "conn.commit()\n"
      ],
      "metadata": {
        "id": "JbZBszKX4C4i"
      },
      "execution_count": null,
      "outputs": []
    },
    {
      "cell_type": "markdown",
      "source": [
        "### 🗂️ Таблиця `drivers`\n",
        "\n",
        "📌 Умови:\n",
        "- Усього має бути **20 записів** (20 водіїв).\n",
        "- Кожен водій керує **лише одним** транспортним засобом (1–1 зв'язок).\n",
        "- **7 записів мають бути помилковими** (тобто категорія прав не відповідає категорії ТЗ). `Наприклад, водій Dmytro з категорією прав B їздить на автомобілі з id = 15.\n",
        "Але якщо автомобіль з id = 15 — це вантажівка (категорія C), то це помилка відповідності.`\n",
        "\n",
        "💡 Порада:\n",
        "- Випадково обирайте `vehicle_id` з таблиці `vehicles`\n",
        "- Вибирайте `driver_category` як **правильну або навмисно неправильну**, щоб було 13 правильних і 7 неправильних\n"
      ],
      "metadata": {
        "id": "yLk8ysk73tyy"
      }
    },
    {
      "cell_type": "code",
      "source": [
        "\n",
        "cursor.execute('SELECT id, category FROM vehicles')\n",
        "vehicles = cursor.fetchall()\n",
        "\n",
        "driver_names = [f'Driver_{i}' for i in range(1, 21)]\n",
        "\n",
        "drivers_data = []\n",
        "\n",
        "\n",
        "correct_vehicles = random.sample(vehicles, 13)\n",
        "\n",
        "for i in range(13):\n",
        "    vid, vcat = correct_vehicles[i]\n",
        "    drivers_data.append((\n",
        "        vid,\n",
        "        driver_names[i],\n",
        "        vcat\n",
        "    ))\n",
        "\n",
        "\n",
        "incorrect_vehicles = [v for v in vehicles if v not in correct_vehicles]\n",
        "\n",
        "incorrect_vehicles_sample = random.sample(incorrect_vehicles, 7)\n",
        "\n",
        "\n",
        "all_categories = ['A', 'B', 'C']\n",
        "\n",
        "for i in range(7):\n",
        "    vid, vcat = incorrect_vehicles_sample[i]\n",
        "\n",
        "    wrong_cats = [c for c in all_categories if c != vcat]\n",
        "    wrong_cat = random.choice(wrong_cats)\n",
        "    drivers_data.append((\n",
        "        vid,\n",
        "        driver_names[13 + i],\n",
        "        wrong_cat\n",
        "    ))\n",
        "\n",
        "\n",
        "cursor.executemany('''\n",
        "    INSERT INTO drivers (vehicle_id, driver_name, driver_category)\n",
        "    VALUES (?, ?, ?)\n",
        "''', drivers_data)\n",
        "\n",
        "conn.commit()\n"
      ],
      "metadata": {
        "id": "MPGNOvYA4tPx"
      },
      "execution_count": null,
      "outputs": []
    },
    {
      "cell_type": "markdown",
      "source": [
        "### 🗂️ Таблиця `categories_info`\n",
        "\n",
        "📌 Умови:\n",
        "- **10 довільних записів**\n",
        "- Для кожної категорії (A, B, C) може бути кілька записів\n",
        "- Колонка `permitted_roads` — випадкові назви доріг (наприклад `CR22`, `AT12`, `BX01`)\n",
        "\n",
        "💡 Порада: можна використати `random.choices(['CR22', 'AT12', 'BX01', 'GH09', 'RD44'])` для генерації назви доріг.\n"
      ],
      "metadata": {
        "id": "HJgka4Sy4vbV"
      }
    },
    {
      "cell_type": "code",
      "source": [
        "import random\n",
        "\n",
        "categories = ['A', 'B', 'C']\n",
        "roads = ['CR22', 'AT12', 'BX01', 'GH09', 'RD44']\n",
        "\n",
        "categories_info_data = []\n",
        "\n",
        "for _ in range(10):\n",
        "    cat = random.choice(categories)\n",
        "\n",
        "    permitted = ', '.join(random.choices(roads, k=random.randint(1,3)))\n",
        "    categories_info_data.append((cat, permitted))\n",
        "\n",
        "cursor.executemany('''\n",
        "    INSERT INTO categories_info (category, permitted_roads)\n",
        "    VALUES (?, ?)\n",
        "''', categories_info_data)\n",
        "\n",
        "conn.commit()\n"
      ],
      "metadata": {
        "id": "drGfAueh4vvX"
      },
      "execution_count": null,
      "outputs": []
    },
    {
      "cell_type": "markdown",
      "source": [
        "## Завдання 2: Робота з даними — 10 балів\n",
        "\n",
        "\n",
        "[SQL Cheat Sheet](https://www.dataquest.io/cheat-sheet/sql-cheat-sheet/)"
      ],
      "metadata": {
        "id": "LRCYPoAV87mR"
      }
    },
    {
      "cell_type": "markdown",
      "source": [
        "### 2.1. Правильний матчінг водіїв і транспортних засобів — 3 бали.   \n",
        "Напишіть SELECT-запит, який повертатиме лише **правильний матчінг** водіїв та їх транспортних засобів, тобто:\n",
        "- Водій має категорію прав A, і керує мотоциклом (категорія A)\n",
        "- Водій має категорію B, і керує легковим авто (категорія B)\n",
        "- Водій має категорію C, і керує вантажівкою (категорія C)\n",
        "\n",
        "❗ Отриманий результат зберегти як датафрейм, та експортувати в csv, чи xlsx файл"
      ],
      "metadata": {
        "id": "aAmxfjKq9GTo"
      }
    },
    {
      "cell_type": "code",
      "source": [
        "import pandas as pd\n",
        "\n",
        "query = '''\n",
        "SELECT d.id as driver_id, d.driver_name, d.driver_category,\n",
        "       v.id as vehicle_id, v.vehicle_type, v.category\n",
        "FROM drivers d\n",
        "JOIN vehicles v ON d.vehicle_id = v.id\n",
        "WHERE d.driver_category = v.category\n",
        "'''\n",
        "\n",
        "\n",
        "df_correct_matches = pd.read_sql_query(query, conn)\n",
        "\n",
        "\n",
        "print(df_correct_matches.head())\n",
        "\n",
        "\n",
        "df_correct_matches.to_csv('correct_driver_vehicle_matches.csv', index=False)\n",
        "\n",
        "\n",
        "df_correct_matches.to_excel('correct_driver_vehicle_matches.xlsx', index=False)\n"
      ],
      "metadata": {
        "id": "mOScDi3i5O78"
      },
      "execution_count": null,
      "outputs": []
    },
    {
      "cell_type": "markdown",
      "source": [
        "### 2.2. Водії, які можуть їздити лише по двох типах доріг — 4 бали\n",
        "Напишіть запит, який повертає водіїв, що мають **правильну категорію прав** та керують транспортом, дозволеним лише на **двох типах доріг**.\n",
        "\n",
        "💡 Використовуйте `JOIN` трьох таблиць: `vehicles`, `drivers`, `categories_info`  \n",
        "💡 Врахуйте, що `categories_info.category` відповідає `vehicles.category`  \n",
        "💡 Наприклад, категорія A має дозвіл лише для доріг CR22 і AT12, а категорія B — 3 дороги, отже фільтруємо лише ті категорії, в яких рівно 2 унікальні дороги.\n",
        "\n",
        "📎 Якщо рандомне заповнення не дало саме 2 дороги на деякі категорії — це ок, не турбуйтесь.\n",
        "\n",
        "❗ Отриманий результат зберегти як датафрейм, та експортувати в csv, чи xlsx файл"
      ],
      "metadata": {
        "id": "Yxvs1dOsGoPs"
      }
    },
    {
      "cell_type": "code",
      "source": [
        "import pandas as pd\n",
        "\n",
        "\n",
        "\n",
        "query = '''\n",
        "WITH CatRoadsCount AS (\n",
        "    SELECT category,\n",
        "           COUNT(DISTINCT TRIM(value)) as road_count\n",
        "    FROM categories_info,\n",
        "         -- Розділяємо рядок permitted_roads на окремі дороги\n",
        "         -- SQLite не має функції split, тому виконаємо це у Python пізніше,\n",
        "         -- або припустимо, що дороги розділені комами без пробілів і зробимо це у Python.\n",
        "         -- Тому зробимо просту перевірку у Python\n",
        "         json_each('[\"'||REPLACE(permitted_roads, ', ', '\",\"')||'\"]')\n",
        "    GROUP BY category\n",
        ")\n",
        "SELECT d.id as driver_id, d.driver_name, d.driver_category,\n",
        "       v.id as vehicle_id, v.vehicle_type, v.category, c.permitted_roads\n",
        "FROM drivers d\n",
        "JOIN vehicles v ON d.vehicle_id = v.id\n",
        "JOIN categories_info c ON v.category = c.category\n",
        "JOIN CatRoadsCount crc ON crc.category = c.category\n",
        "WHERE d.driver_category = v.category\n",
        "  AND crc.road_count = 2\n",
        "'''\n",
        "\n",
        "\n",
        "\n",
        "df = pd.read_sql_query('''\n",
        "SELECT d.id as driver_id, d.driver_name, d.driver_category,\n",
        "       v.id as vehicle_id, v.vehicle_type, v.category, c.permitted_roads\n",
        "FROM drivers d\n",
        "JOIN vehicles v ON d.vehicle_id = v.id\n",
        "JOIN categories_info c ON v.category = c.category\n",
        "WHERE d.driver_category = v.category\n",
        "''', conn)\n",
        "\n",
        "\n",
        "def count_unique_roads(roads_str):\n",
        "    roads = [r.strip() for r in roads_str.split(',')]\n",
        "    return len(set(roads))\n",
        "\n",
        "\n",
        "df_filtered = df[df['permitted_roads'].apply(count_unique_roads) == 2]\n",
        "\n",
        "\n",
        "print(df_filtered.head())\n",
        "\n",
        "\n",
        "df_filtered.to_csv('drivers_two_roads.csv', index=False)\n",
        "df_filtered.to_excel('drivers_two_roads.xlsx', index=False)\n"
      ],
      "metadata": {
        "id": "x1zmD5s9Hf4Z"
      },
      "execution_count": null,
      "outputs": []
    },
    {
      "cell_type": "markdown",
      "source": [
        "### 2.3. Описова статистика по таблиці vehicles — 3 бали\n",
        "Зробіть базову аналітику по таблиці `vehicles`:\n",
        "\n",
        "1. Середня швидкість по категоріям\n",
        "2. Максимальний пробіг по категоріям\n",
        "3. Максимальна швидкість транспорту з більше ніж 8 пасажирами"
      ],
      "metadata": {
        "id": "u5wevEypHsmZ"
      }
    },
    {
      "cell_type": "code",
      "source": [
        "1.\n",
        "query_avg_speed = '''\n",
        "SELECT category, AVG(max_speed) as avg_max_speed\n",
        "FROM vehicles\n",
        "GROUP BY category\n",
        "'''\n",
        "\n",
        "df_avg_speed = pd.read_sql_query(query_avg_speed, conn)\n",
        "print(\"Середня максимальна швидкість по категоріях:\")\n",
        "print(df_avg_speed)\n",
        "\n",
        "2.\n",
        "query_max_milleage = '''\n",
        "SELECT category, MAX(milleage) as max_milleage\n",
        "FROM vehicles\n",
        "GROUP BY category\n",
        "'''\n",
        "\n",
        "df_max_milleage = pd.read_sql_query(query_max_milleage, conn)\n",
        "print(\"\\nМаксимальний пробіг по категоріях:\")\n",
        "print(df_max_milleage)\n",
        "\n",
        "3.\n",
        "query_max_speed_passengers = '''\n",
        "SELECT MAX(max_speed) as max_speed_with_passengers_over_8\n",
        "FROM vehicles\n",
        "WHERE passenger_count > 8\n",
        "'''\n",
        "\n",
        "df_max_speed_passengers = pd.read_sql_query(query_max_speed_passengers, conn)\n",
        "print(\"\\nМаксимальна швидкість транспорту з більше ніж 8 пасажирами:\")\n",
        "print(df_max_speed_passengers)\n",
        "\n",
        "\n"
      ],
      "metadata": {
        "id": "fvkIBj5ZH9JV"
      },
      "execution_count": null,
      "outputs": []
    }
  ]
}