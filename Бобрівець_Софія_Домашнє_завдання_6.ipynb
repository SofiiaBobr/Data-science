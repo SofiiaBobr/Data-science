{
  "nbformat": 4,
  "nbformat_minor": 0,
  "metadata": {
    "colab": {
      "provenance": [],
      "include_colab_link": true
    },
    "kernelspec": {
      "name": "python3",
      "display_name": "Python 3"
    },
    "language_info": {
      "name": "python"
    }
  },
  "cells": [
    {
      "cell_type": "markdown",
      "metadata": {
        "id": "view-in-github",
        "colab_type": "text"
      },
      "source": [
        "<a href=\"https://colab.research.google.com/github/SofiiaBobr/Data-science/blob/main/%D0%91%D0%BE%D0%B1%D1%80%D1%96%D0%B2%D0%B5%D1%86%D1%8C_%D0%A1%D0%BE%D1%84%D1%96%D1%8F_%D0%94%D0%BE%D0%BC%D0%B0%D1%88%D0%BD%D1%94_%D0%B7%D0%B0%D0%B2%D0%B4%D0%B0%D0%BD%D0%BD%D1%8F_6.ipynb\" target=\"_parent\"><img src=\"https://colab.research.google.com/assets/colab-badge.svg\" alt=\"Open In Colab\"/></a>"
      ]
    },
    {
      "cell_type": "markdown",
      "source": [
        "# 📘 Домашнє завдання №6\n",
        "**Заняття 16: Математична статистика — Частина 2**\n",
        "\n",
        "❗ У назві файлу має бути ваше ім’я з навчальної платформи.\n",
        "\n",
        "---\n",
        "Для цієї роботи ми будемо використовувати 📎 дані: [`data.xls`](https://github.com/robot-dreams-code/DATA-SCIENCE-PROFESSION-04/blob/main/%D0%97%D0%B0%D0%BD%D1%8F%D1%82%D1%82%D1%8F%209/data.xls)\n",
        "\n",
        "---"
      ],
      "metadata": {
        "id": "gI6dGNwt7cjq"
      }
    },
    {
      "cell_type": "markdown",
      "source": [
        "## Завдання 1: Завантаження та первинний аналіз — 2 бали\n",
        "- Завантажте файл `data.xls` за допомогою `pandas`\n",
        "- Проведіть первинний аналіз: `.head()`, `.info()`, `.describe()`"
      ],
      "metadata": {
        "id": "DrsV6zdU7n6K"
      }
    },
    {
      "cell_type": "code",
      "execution_count": null,
      "metadata": {
        "id": "p-JA93WA7MGF"
      },
      "outputs": [],
      "source": [
        "import pandas as pd\n",
        "\n",
        "\n",
        "df = pd.read_excel('data.xls')\n",
        "\n",
        "\n",
        "print(df.head())\n",
        "print(df.info())\n",
        "print(df.describe())\n"
      ]
    },
    {
      "cell_type": "markdown",
      "source": [
        "## Завдання 2: Кореляційний аналіз — 3 бали\n",
        "- Обчисліть кореляційну матрицю між усіма числовими змінними.\n",
        "- Виведіть таблицю. За бажанням — візуалізуйте за допомогою `seaborn.heatmap()`\n",
        "- Опишіть коротко, які змінні найбільше корелюють між собою"
      ],
      "metadata": {
        "id": "lg9Qw_7Z7txP"
      }
    },
    {
      "cell_type": "code",
      "source": [
        "import seaborn as sns\n",
        "import matplotlib.pyplot as plt\n",
        "\n",
        "\n",
        "correlation_matrix = df.corr()\n",
        "\n",
        "\n",
        "print(correlation_matrix)\n",
        "\n",
        "\n",
        "plt.figure(figsize=(10,8))\n",
        "sns.heatmap(correlation_matrix, annot=True, fmt=\".2f\", cmap='coolwarm')\n",
        "plt.title('Кореляційна матриця')\n",
        "plt.show()\n"
      ],
      "metadata": {
        "id": "Bn-v_8mX71yo"
      },
      "execution_count": null,
      "outputs": []
    },
    {
      "cell_type": "markdown",
      "source": [
        "Найсильніша позитивна кореляція між PetalLength та PetalWidth.\n",
        "\n",
        "Слабка кореляція між SepalWidth і іншими змінними.\n",
        "\n",
        "Взаємозв’язки допомагають вибрати змінні для моделей."
      ],
      "metadata": {
        "id": "osgYoPxD7677"
      }
    },
    {
      "cell_type": "markdown",
      "source": [
        "## Завдання 3: Візуалізація — 6 балів\n",
        "- Побудуйте графіки для кожної числової колонки\n",
        "- Оберіть відповідний тип графіка (гістограма, boxplot, тощо)\n",
        "- Напишіть, чому обрали саме цей варіант для кожної змінної"
      ],
      "metadata": {
        "id": "cSuSkovL8PPL"
      }
    },
    {
      "cell_type": "code",
      "source": [
        "for col in df.select_dtypes(include='number').columns:\n",
        "    plt.figure(figsize=(10,4))\n",
        "\n",
        "\n",
        "    plt.subplot(1,2,1)\n",
        "    sns.histplot(df[col], kde=True)\n",
        "    plt.title(f'Гістограма {col}')\n",
        "\n",
        "\n",
        "    plt.subplot(1,2,2)\n",
        "    sns.boxplot(x=df[col])\n",
        "    plt.title(f'Boxplot {col}')\n",
        "\n",
        "    plt.tight_layout()\n",
        "    plt.show()\n"
      ],
      "metadata": {
        "id": "YD9VSZua73oZ"
      },
      "execution_count": null,
      "outputs": []
    },
    {
      "cell_type": "markdown",
      "source": [
        "## Завдання 4: Аналіз нормальності розподілу — 6 балів\n",
        "- Чи є розподіл якоїсь зі змінних нормальним?\n",
        "- Використайте візуалізації, а також одну з формальних перевірок, наприклад Shapiro-Wilk.\n",
        "- Що можна зробити, щоб наблизити його до нормального?\n"
      ],
      "metadata": {
        "id": "UR3H8kYb8gvW"
      }
    },
    {
      "cell_type": "code",
      "source": [
        "from scipy.stats import shapiro\n",
        "\n",
        "for col in df.select_dtypes(include='number').columns:\n",
        "    stat, p = shapiro(df[col].dropna())\n",
        "    print(f'{col}: статистика={stat:.3f}, p-значення={p:.3f}')\n",
        "    if p > 0.05:\n",
        "        print(f'Розподіл {col} можна вважати нормальним\\n')\n",
        "    else:\n",
        "        print(f'Розподіл {col} не є нормальним\\n')\n"
      ],
      "metadata": {
        "id": "4hBC0V2l8wrG"
      },
      "execution_count": null,
      "outputs": []
    },
    {
      "cell_type": "markdown",
      "source": [
        "Розподіл з p > 0.05 можна вважати близьким до нормального.\n",
        "\n",
        "Для ненормальних розподілів можна застосувати трансформації: логарифмічну, Box-Cox, або квадратний корінь.\n",
        "\n",
        "Знання нормальності важливо для вибору статистичних тестів і моделей.\n"
      ],
      "metadata": {
        "id": "-OrGUDOL8xRo"
      }
    }
  ]
}