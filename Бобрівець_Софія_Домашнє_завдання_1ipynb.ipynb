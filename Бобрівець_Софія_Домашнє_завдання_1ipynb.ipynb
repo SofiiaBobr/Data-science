{
  "nbformat": 4,
  "nbformat_minor": 0,
  "metadata": {
    "colab": {
      "provenance": []
    },
    "kernelspec": {
      "name": "python3",
      "display_name": "Python 3"
    },
    "language_info": {
      "name": "python"
    }
  },
  "cells": [
    {
      "cell_type": "markdown",
      "source": [
        "# 📘 Домашнє завдання №1\n",
        "**Заняття 3. Знайомство з Python та Jupyter Notebook**\n",
        "\n",
        "❗ У назві файлу має бути ваше ім’я з навчальної платформи."
      ],
      "metadata": {
        "id": "TvUoRbRW_uom"
      }
    },
    {
      "cell_type": "markdown",
      "source": [
        "## 1. Сума двох чисел (3 бали)\n",
        "\n",
        "Написати код, який:\n",
        "\n",
        "1. Отримує **два числа** (`int` або `float`) від користувача через `input()`\n",
        "2. Обчислює їхню **суму**\n",
        "3. Виводить результат у форматі: “Sum = <сума>“.\n",
        "\n",
        "📌Приклад:\n",
        "\n",
        "> First number: 5.5  \n",
        "> Second number: 2  \n",
        "> Sum = 7.5\n",
        "\n",
        "\n",
        "\n"
      ],
      "metadata": {
        "id": "MtpI2QK8sOmr"
      }
    },
    {
      "cell_type": "code",
      "source": [
        "first_number = float(input(\"First number: \"))\n",
        "second_number = float(input(\"Second number: \"))\n",
        "\n",
        "sum_result = first_number + second_number\n",
        "\n",
        "#виведіть результат\n",
        "\n",
        "print(f\"Sum = {sum_result}\")\n",
        "\n"
      ],
      "metadata": {
        "id": "wfryqw7nsHbh",
        "outputId": "51dcf936-23c6-4b92-b39f-3a6caab0e814",
        "colab": {
          "base_uri": "https://localhost:8080/"
        }
      },
      "execution_count": null,
      "outputs": [
        {
          "output_type": "stream",
          "name": "stdout",
          "text": [
            "First number: 3.4\n",
            "Second number: 5.6\n",
            "Sum = 9.0\n"
          ]
        }
      ]
    },
    {
      "cell_type": "markdown",
      "source": [
        "## 2 Конвертація температури (5 балів)\n",
        "Написати код, який на вхід отримуватиме введену з клавіатури температуру та одиницю вимірювання Цельсій або Фаренгейт (\"C\" або \"F\").\n",
        "Залежно від введеної одиниці, конвертує значення у відповідну температуру (тобто Цельсії у Фаренгейти, а Фаренгейти у  Цельсії).  \n",
        "\n",
        "### Виведіть результат у форматі:\n",
        "```\n",
        "<значення> <одиниця> converted into: <значення> <одиниця>\n",
        "```\n",
        "🔔Перевірити себе:\n",
        "```\n",
        "100 С converted into: 212.0 F\n",
        "32 F converted into: 0.0 C\n",
        "```\n",
        "\n",
        "\n",
        "\n",
        "> **Порада:** для перевірки введеної одиниці вимірювання можна використати `.lower()` або `.upper()`, щоб зробити програму менш чутливою до регістру\n"
      ],
      "metadata": {
        "id": "acS21IYFtHXz"
      }
    },
    {
      "cell_type": "code",
      "source": [
        "temperature = float(input(\"Enter temperature: \"))\n",
        "\n",
        "unit = input(\"Enter unit (C or F): \").strip().upper()\n",
        "\n",
        "\n",
        "if unit == \"C\":\n",
        "    converted = temperature * 9 / 5 + 32\n",
        "    print(f\"{temperature} C converted into: {converted} F\")\n",
        "elif unit == \"F\":\n",
        "    converted = (temperature - 32) * 5 / 9\n",
        "    print(f\"{temperature} F converted into: {converted} C\")\n",
        "else:\n",
        "    print(\"Please enter 'C' or 'F'.\")"
      ],
      "metadata": {
        "id": "HmLnFlMgtH3D"
      },
      "execution_count": null,
      "outputs": []
    }
  ]
}