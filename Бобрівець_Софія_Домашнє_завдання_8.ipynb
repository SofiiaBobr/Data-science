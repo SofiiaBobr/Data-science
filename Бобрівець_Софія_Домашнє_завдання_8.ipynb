{
  "nbformat": 4,
  "nbformat_minor": 0,
  "metadata": {
    "colab": {
      "provenance": [],
      "include_colab_link": true
    },
    "kernelspec": {
      "name": "python3",
      "display_name": "Python 3"
    },
    "language_info": {
      "name": "python"
    }
  },
  "cells": [
    {
      "cell_type": "markdown",
      "metadata": {
        "id": "view-in-github",
        "colab_type": "text"
      },
      "source": [
        "<a href=\"https://colab.research.google.com/github/SofiiaBobr/Data-science/blob/main/%D0%91%D0%BE%D0%B1%D1%80%D1%96%D0%B2%D0%B5%D1%86%D1%8C_%D0%A1%D0%BE%D1%84%D1%96%D1%8F_%D0%94%D0%BE%D0%BC%D0%B0%D1%88%D0%BD%D1%94_%D0%B7%D0%B0%D0%B2%D0%B4%D0%B0%D0%BD%D0%BD%D1%8F_8.ipynb\" target=\"_parent\"><img src=\"https://colab.research.google.com/assets/colab-badge.svg\" alt=\"Open In Colab\"/></a>"
      ]
    },
    {
      "cell_type": "markdown",
      "source": [
        "# 📘 Домашнє завдання №8\n",
        "**Заняття 23. Методи машинного навчання — Частина 3**\n",
        "\n",
        "❗ У назві файлу має бути ваше ім’я з навчальної платформи.\n",
        "\n",
        "---\n",
        "Для цієї роботи ми будемо використовувати 📎 дані: [`my_phone.csv`](https://github.com/robot-dreams-code/DATA-SCIENCE-PROFESSION-04/blob/main/%D0%97%D0%B0%D0%BD%D1%8F%D1%82%D1%82%D1%8F%2023/my_phone.csv)\n",
        "\n",
        "---"
      ],
      "metadata": {
        "id": "ZIdh9spGK_Bc"
      }
    },
    {
      "cell_type": "markdown",
      "source": [
        "## 🔍 Сценарій   \n",
        "Ви плануєте створити власну лінійку мобільних телефонів. Щоб краще орієнтуватись у специфікаціях та цінах, ви зібрали дані з сайту Rozetka. Частина рядків у датасеті — телефони, які ви хочете створити самостійно, і для них відсутня інформація про ціну (price_range). Ваше завдання — дослідити ці дані, знайти аномалії, а потім навчити моделі передбачати ціну і класифікувати ваші нові телефони."
      ],
      "metadata": {
        "id": "8LJ3osxULBEV"
      }
    },
    {
      "cell_type": "markdown",
      "source": [
        "## 📁 Опис даних\n",
        "\n",
        "Дані містять характеристики телефонів:\n",
        "\n",
        "| Колонка         | Опис                                                 |\n",
        "|-----------------|------------------------------------------------------|\n",
        "| `battery_power` | Потужність батареї (mAh)                             |\n",
        "| `bluetooth`     | Підтримка Bluetooth (1 — так, 0 — ні)                |\n",
        "| `weight`        | Вага телефону                                        |\n",
        "| `memory`        | Обсяг пам’яті (внутрішньої)                          |\n",
        "| `n_cores`       | Кількість ядер процесора                            |\n",
        "| `ram`           | Обсяг оперативної пам’яті                            |\n",
        "| `dual_sim`      | Підтримка 2 SIM-карт (1 — так, 0 — ні)               |\n",
        "| `wifi`          | Підтримка Wi-Fi (1 — так, 0 — ні)                    |\n",
        "| `pixel_height`  | Висота екрану в пікселях                            |\n",
        "| `pixel_width`   | Ширина екрану в пікселях                             |\n",
        "| `price_range`   | Цінова категорія: (0 — дуже низька, 1 — низька, 2 — середня,3 — висока) ⬇⬇⬇ |\n",
        "\n",
        "---\n",
        "&nbsp;\n",
        "\n",
        " **❗️❗️❗️ `price_range` може бути порожньою — це ваші майбутні моделі телефонів, для яких ви хотече спрогнозувати ціну. НЕ ВИДАЛЯЙТЕ ЇХ❗️**"
      ],
      "metadata": {
        "id": "Z9FHpC0VMkO1"
      }
    },
    {
      "cell_type": "markdown",
      "source": [
        "## Завдання 1: Дослідження та очищення даних — 15 балів\n",
        "\n",
        "📌 Зробіть повний аналіз:\n",
        "- `.info()`, `.describe()`, `.isnull().sum()`\n",
        "- Побудуйте графіки, перевірте логіку значень\n",
        "\n",
        "🔍 Знайдіть 5 кардинально різних **підступів у даних**.   \n",
        "*P.S.* Присутність NA в колонці 1 та присутність NA в колонці 2 НЕ Є кардинально різними підступами.\n",
        "\n",
        "&nbsp;\n",
        "\n",
        "### ⭐️ Оцінювання:\n",
        "- **1 бал** — за кожен знайдений підступ\n",
        "- **+2 бали** — за кожен виправлений підступ (будь-яким зручним для вас способом, крім повного `drop()`, окрім одного випадку). Не забувайте за пояснення.\n"
      ],
      "metadata": {
        "id": "FWinM9mxNhZN"
      }
    },
    {
      "cell_type": "code",
      "source": [
        "import pandas as pd\n",
        "import matplotlib.pyplot as plt\n",
        "import seaborn as sns\n",
        "\n",
        "df = pd.read_csv('my_phone.csv')\n",
        "\n",
        "\n",
        "print(df.info())\n",
        "\n",
        "\n",
        "print(df.describe())\n",
        "\n",
        "\n",
        "print(df.isnull().sum())\n",
        "\n",
        "\n",
        "plt.figure(figsize=(12,8))\n",
        "sns.countplot(x='price_range', data=df)\n",
        "plt.title('Розподіл price_range')\n",
        "plt.show()\n",
        "\n",
        "\n",
        "plt.figure(figsize=(12,10))\n",
        "sns.heatmap(df.corr(), annot=True, cmap='coolwarm')\n",
        "plt.title('Кореляція змінних')\n",
        "plt.show()\n",
        "\n",
        "\n",
        "plt.scatter(df['ram'], df['price_range'])\n",
        "plt.title('RAM vs Price Range')\n",
        "plt.show()\n",
        "\n",
        "\n",
        "sns.boxplot(x='n_cores', y='ram', data=df)\n",
        "plt.show()\n",
        "\n",
        "sns.histplot(df['battery_power'], bins=30)\n",
        "plt.show()\n",
        "\n",
        "\n",
        "print(df[['bluetooth', 'dual_sim', 'wifi']].value_counts())\n",
        "\n",
        "\n",
        "print(df['n_cores'].unique())\n",
        "\n"
      ],
      "metadata": {
        "id": "2wFP_wQwQau5"
      },
      "execution_count": null,
      "outputs": []
    },
    {
      "cell_type": "markdown",
      "source": [
        "Невірний тип даних у колонках (наприклад, n_cores як float замість int).\n",
        "\n",
        "Наявність нереалістичних значень (наприклад, ram = 0 або battery_power дуже маленький або занадто великий).\n",
        "\n",
        "Аномальні значення у категоріях (наприклад, bluetooth або wifi ма\n"
      ],
      "metadata": {
        "id": "jgsLIjpiRGpf"
      }
    },
    {
      "cell_type": "markdown",
      "source": [
        "## Завдання 2: Лінійна регресія — 5 балів\n",
        "- Побудуйте лінійну регресію для прогнозу `price_range`\n",
        "- Поясніть які фічі ви використали і чому (тут вам допоможе пророблена робота з завдання 1)\n",
        "- Уважно прогляньте, що ваша модель передбачає ваше модель, який там дип даних?\n",
        "- Використайте хоча б одну метрику для оцінки перформансу вашої моделі. [Cheat Sheet model evaluation](https://medium.com/ml-cheat-sheet/machine-learning-evaluation-metrics-b89b8832e275)\n"
      ],
      "metadata": {
        "id": "5knsn0iZRjLb"
      }
    },
    {
      "cell_type": "code",
      "source": [
        "import pandas as pd\n",
        "from sklearn.linear_model import LinearRegression\n",
        "from sklearn.model_selection import train_test_split\n",
        "from sklearn.metrics import mean_squared_error, r2_score\n",
        "\n",
        "\n",
        "df = pd.read_csv('my_phone.csv')\n",
        "\n",
        "\n",
        "features = ['battery_power', 'ram', 'memory', 'n_cores', 'bluetooth', 'dual_sim', 'wifi']\n",
        "\n",
        "\n",
        "df_train = df[df['price_range'].notna()]\n",
        "\n",
        "X = df_train[features]\n",
        "y = df_train['price_range']\n",
        "\n",
        "\n",
        "X_train, X_test, y_train, y_test = train_test_split(X, y, test_size=0.2, random_state=42)\n",
        "\n",
        "\n",
        "model = LinearRegression()\n",
        "\n",
        "model.fit(X_train, y_train)\n",
        "\n",
        "\n",
        "y_pred = model.predict(X_test)\n",
        "\n",
        "mse = mean_squared_error(y_test, y_pred)\n",
        "r2 = r2_score(y_test, y_pred)\n",
        "\n",
        "print(f\"Mean Squared Error (MSE): {mse:.3f}\")\n",
        "print(f\"R^2 Score: {r2:.3f}\")\n",
        "\n",
        "# battery_power — потужність батареї суттєво впливає на ціну.\n",
        "\n",
        "# ram — оперативна пам’ять є одним із основних показників продуктивності телефону.\n",
        "\n",
        "# memory — внутрішня пам’ять впливає на вартість.\n",
        "\n",
        "# n_cores — кількість ядер процесора корелює з продуктивністю і ціною.\n",
        "\n",
        "# bluetooth, dual_sim, wifi — важливі функції, що підвищують вартість."
      ],
      "metadata": {
        "id": "T9hpTPYrUb7G"
      },
      "execution_count": null,
      "outputs": []
    },
    {
      "cell_type": "markdown",
      "source": [
        "### Завдання 3. Класифікація — 10 балів\n",
        "\n",
        "- Побудуйте класифікатор (довільний,але рекомендовано `LogisticRegression`)\n",
        "- Навчайте модель на тих рядках, де `price_range` присутнє\n",
        "- Застосуйте її на тих, де значення **відсутнє**\n",
        "- Додайте колонку `price_range_predicted` і збережіть в неї отримані передбачення.\n",
        "\n",
        "🧠 Обов'язково поясніть:\n",
        "- Які фічі використовували?\n",
        "- Наскільки точний результат? Використайте метрики оцінки."
      ],
      "metadata": {
        "id": "mqmhdA6NUtPz"
      }
    },
    {
      "cell_type": "code",
      "source": [
        "import pandas as pd\n",
        "from sklearn.linear_model import LogisticRegression\n",
        "from sklearn.model_selection import train_test_split\n",
        "from sklearn.metrics import classification_report, accuracy_score\n",
        "\n",
        "\n",
        "df_train = df[df['price_range'].notnull()]\n",
        "df_predict = df[df['price_range'].isnull()]\n",
        "\n",
        "\n",
        "features = ['battery_power', 'bluetooth', 'weight', 'memory', 'n_cores',\n",
        "            'ram', 'dual_sim', 'wifi', 'pixel_height', 'pixel_width']\n",
        "\n",
        "X = df_train[features]\n",
        "y = df_train['price_range'].astype(int)\n",
        "\n",
        "\n",
        "X_train, X_test, y_train, y_test = train_test_split(X, y, test_size=0.2, random_state=42)\n",
        "\n",
        "\n",
        "model = LogisticRegression(max_iter=1000)\n",
        "model.fit(X_train, y_train)\n",
        "\n",
        "\n",
        "y_pred = model.predict(X_test)\n",
        "\n",
        "print(\"Accuracy:\", accuracy_score(y_test, y_pred))\n",
        "print(classification_report(y_test, y_pred))\n",
        "\n",
        "\n",
        "X_new = df_predict[features]\n",
        "predicted = model.predict(X_new)\n",
        "\n",
        "\n",
        "df.loc[df['price_range'].isnull(), 'price_range_predicted'] = predicted\n",
        "\n",
        "\n",
        "print(df[['price_range', 'price_range_predicted']].head())\n",
        "\n",
        "# Для побудови класифікатора я використала основні характеристики телефонів, які логічно впливають на ціну — це потужність батареї, підтримка Bluetooth, вага, обсяг пам’яті, кількість ядер процесора, оперативна пам’ять, підтримка двох SIM, Wi-Fi та роздільна здатність екрану.\n",
        "\n",
        "# Я обрала Logistic Regression, бо це проста і добре зрозуміла модель для класифікації, яка дає достатньо точні результати на подібних задачах.\n",
        "\n",
        "# Щоб перевірити якість моделі, я поділила відомі дані на тренувальні і тестові, а потім оцінювала точність за допомогою метрик accuracy, precision, recall і f1-score. Результати показали, що модель досить добре передбачає цінову категорію телефонів.\n",
        "\n",
        "# Отримані передбачення я додала у нову колонку price_range_predicted для тих телефонів, у яких спочатку не було інформації про ціну.\n",
        "\n",
        "\n"
      ],
      "metadata": {
        "id": "whUBuUhzWso2"
      },
      "execution_count": null,
      "outputs": []
    },
    {
      "cell_type": "markdown",
      "source": [
        "### Завдання 4. Кластеризація — 10 балів\n",
        "\n",
        "- Проведіть кластеризацію (довільну яка вам подобається, але рекомендовано — `KMeans`)\n",
        "- Навчайте модель на тих даних, де є `price_range`\n",
        "- Визначте і поділить дані на оптимальну кількість кластерів (з поясненням)\n",
        "- Потім за допомогою `.predict()` класифікуйте ті рядочки, де `price_range` відсутній\n",
        "- Додайте колонку: `cluster_suggested` і запишіть туди результат передбачення\n",
        "\n",
        "Тут можна без інтерпретації чи логіки міркувань. Потрібно **правильно обрати дані** для кластеризації."
      ],
      "metadata": {
        "id": "2SEKhzVwWvDe"
      }
    },
    {
      "cell_type": "code",
      "source": [
        "import pandas as pd\n",
        "from sklearn.cluster import KMeans\n",
        "from sklearn.preprocessing import StandardScaler\n",
        "import matplotlib.pyplot as plt\n",
        "from sklearn.metrics import silhouette_score\n",
        "\n",
        "features = ['battery_power', 'ram', 'memory', 'n_cores', 'weight']\n",
        "\n",
        "\n",
        "df_with_price = df[df['price_range'].notnull()]\n",
        "df_without_price = df[df['price_range'].isnull()]\n",
        "\n",
        "\n",
        "scaler = StandardScaler()\n",
        "X_train = scaler.fit_transform(df_with_price[features])\n",
        "X_predict = scaler.transform(df_without_price[features])\n",
        "\n",
        "\n",
        "inertia = []\n",
        "range_n_clusters = range(2, 11)\n",
        "for k in range_n_clusters:\n",
        "    kmeans = KMeans(n_clusters=k, random_state=42)\n",
        "    kmeans.fit(X_train)\n",
        "    inertia.append(kmeans.inertia_)\n",
        "\n",
        "plt.plot(range_n_clusters, inertia, marker='o')\n",
        "plt.xlabel('Number of clusters')\n",
        "plt.ylabel('Inertia')\n",
        "plt.title('Elbow Method for Optimal Clusters')\n",
        "plt.show()\n",
        "\n",
        "\n",
        "silhouette_scores = []\n",
        "for k in range_n_clusters:\n",
        "    kmeans = KMeans(n_clusters=k, random_state=42)\n",
        "    labels = kmeans.fit_predict(X_train)\n",
        "    score = silhouette_score(X_train, labels)\n",
        "    silhouette_scores.append(score)\n",
        "\n",
        "plt.plot(range_n_clusters, silhouette_scores, marker='o')\n",
        "plt.xlabel('Number of clusters')\n",
        "plt.ylabel('Silhouette Score')\n",
        "plt.title('Silhouette Score for Optimal Clusters')\n",
        "plt.show()\n",
        "\n",
        "\n",
        "optimal_k = 4\n",
        "kmeans = KMeans(n_clusters=optimal_k, random_state=42)\n",
        "kmeans.fit(X_train)\n",
        "\n",
        "\n",
        "predicted_clusters = kmeans.predict(X_predict)\n",
        "\n",
        "df.loc[df['price_range'].isnull(), 'cluster_suggested'] = predicted_clusters\n",
        "\n",
        "\n",
        "print(df[['price_range', 'cluster_suggested']].head(10))\n",
        "\n"
      ],
      "metadata": {
        "id": "fBnZVh3U6ve_"
      },
      "execution_count": null,
      "outputs": []
    }
  ]
}