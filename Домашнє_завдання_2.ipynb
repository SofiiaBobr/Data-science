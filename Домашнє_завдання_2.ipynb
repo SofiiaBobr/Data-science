{
  "nbformat": 4,
  "nbformat_minor": 0,
  "metadata": {
    "colab": {
      "provenance": [],
      "include_colab_link": true
    },
    "kernelspec": {
      "name": "python3",
      "display_name": "Python 3"
    },
    "language_info": {
      "name": "python"
    }
  },
  "cells": [
    {
      "cell_type": "markdown",
      "metadata": {
        "id": "view-in-github",
        "colab_type": "text"
      },
      "source": [
        "<a href=\"https://colab.research.google.com/github/SofiiaBobr/Data-science/blob/main/%D0%94%D0%BE%D0%BC%D0%B0%D1%88%D0%BD%D1%94_%D0%B7%D0%B0%D0%B2%D0%B4%D0%B0%D0%BD%D0%BD%D1%8F_2.ipynb\" target=\"_parent\"><img src=\"https://colab.research.google.com/assets/colab-badge.svg\" alt=\"Open In Colab\"/></a>"
      ]
    },
    {
      "cell_type": "markdown",
      "source": [
        "# 📘 Домашнє завдання №2\n",
        "**Заняття 5. ООП. Частина 2**\n",
        "\n",
        "❗ У назві файлу має бути ваше ім’я з навчальної платформи."
      ],
      "metadata": {
        "id": "yMbxCM0_AC4I"
      }
    },
    {
      "cell_type": "markdown",
      "source": [
        "## 1. Створення базового класу (5 балів)\n",
        "\n",
        "Створіть клас `Vehicle`, який описує транспортний засіб.\n",
        "\n",
        "### При ініціалізації об'єкт має приймати:\n",
        "- `vehicle_type` — тип авто (наприклад, \"Bus\", \"Car\") — тип `str`\n",
        "- `max_speed` — максимальна швидкість — тип `float`\n",
        "- `mileage` — пробіг — тип `int`\n",
        "\n",
        "### Реалізуйте метод:\n",
        "- `describe()` — повертає рядок з описом авто. Має виглядати так:\n",
        "> `Type: Bus, Max Speed: 120.0 km/h, Mileage: 15000 km`"
      ],
      "metadata": {
        "id": "gb749KSVwrfU"
      }
    },
    {
      "cell_type": "code",
      "source": [
        "# TODO: реалізуйте клас Vehicle тут\n",
        "class Vehicle:\n",
        "    pass"
      ],
      "metadata": {
        "id": "cYNcx8k5wsen"
      },
      "execution_count": null,
      "outputs": []
    },
    {
      "cell_type": "markdown",
      "source": [
        "## 2. Наслідування та додаткові атрибути (8 балів)\n",
        "\n",
        "### Клас `Bus` (4 бали)\n",
        "Створіть клас `Bus`, який **наслідує** `Vehicle`.\n",
        "\n",
        "Додайте атрибут:\n",
        "- `capacity` — кількість пасажирів (за замовчуванням = 50)\n",
        "\n",
        "### Клас `Car` (4 бали)\n",
        "Створіть клас `Car`, який **наслідує** `Vehicle`.\n",
        "\n",
        "Додайте атрибут:\n",
        "- `color` — колір авто. **Усі автівки мають бути білими** (атрибут **класу**, а не екземпляра)\n",
        "\n",
        "> **Увага!** Метод `describe()` повинен видавати також нову інформацію про `capacity` чи `color`.  \n",
        "> Тобто дочірні класи мають **перевизначити** (`override`) метод `describe()`!"
      ],
      "metadata": {
        "id": "9ZxbiCyww9hj"
      }
    },
    {
      "cell_type": "code",
      "source": [
        "# TODO: реалізуйте клас Bus тут\n",
        "class Bus(Vehicle):\n",
        "    pass\n",
        "\n",
        "# TODO: реалізуйте клас Car тут\n",
        "class Car(Vehicle):\n",
        "    pass"
      ],
      "metadata": {
        "id": "JMIyfpgyw-nK"
      },
      "execution_count": null,
      "outputs": []
    },
    {
      "cell_type": "markdown",
      "source": [
        "## 3. Орендна плата (4 бали)\n",
        "\n",
        "Реалізуйте метод `rental_price()`, який розраховує орендну плату.\n",
        "\n",
        "### Правила:\n",
        "- За замовчуванням метод має повертати ціну, як кількість місць піднесену до квадрату для кожного дочірнього класу, тобто `capacity ** 2`\n",
        "- Проте, для класу `Bus`, якщо `capacity > 10`, додайте +10% до ціни\n",
        "\n",
        "> **Підказка**: Створіть метод `rental_price()` в `Vehicle`, який буде базовим (можна з `hasattr()` для перевірки наявності `capacity`).  \n",
        "> Але в `Bus` потрібно **перевизначити** метод!"
      ],
      "metadata": {
        "id": "h4iAYWsvxZGb"
      }
    },
    {
      "cell_type": "code",
      "source": [
        "# TODO: реалізувати метод rental_price в класах"
      ],
      "metadata": {
        "id": "zXqr-eu8yW_k"
      },
      "execution_count": null,
      "outputs": []
    },
    {
      "cell_type": "markdown",
      "source": [
        "## 4. Зміна пробігу (3 бали)\n",
        "\n",
        "Додайте до класу `Vehicle` метод, який:  \n",
        " - приймає параметр `km` — ціле число\n",
        " - збільшує `mileage` на цю кількість.  \n",
        "\n",
        "🔔Перевірити себе:\n",
        "```\n",
        ">>> vehicle1.describe()\n",
        "Type: Bus, Max Speed: 120.0 km/h, Mileage: 15000 km\n",
        ">>> vehicle1.drive(1200)\n",
        ">>> vehicle1.describe()\n",
        "Type: Bus, Max Speed: 120.0 km/h, Mileage: 16200 km\n",
        "\n",
        "```"
      ],
      "metadata": {
        "id": "OvMjs79hypn6"
      }
    },
    {
      "cell_type": "code",
      "source": [
        "# TODO: метод drive"
      ],
      "metadata": {
        "id": "XjRGUBNSxYuU"
      },
      "execution_count": null,
      "outputs": []
    },
    {
      "cell_type": "markdown",
      "source": [
        "## 5. Додаткове (необов’язкове)\n",
        "\n",
        "Створіть метод `service_alert()` у класі `Vehicle`, який залежно від пробігу автомобіля, буде видавати месседж **“Service Required!”** стільки разів, скільки дорівнює ціла частка від ділення пробігу на 10000.\n",
        ">Приклад:\n",
        ">mileage = 9500 → \"No Service Required!\"\n",
        ">mileage = 10000 → \"Service Required!\"\n",
        ">mileage = 30200 → \"Service Required! Service Required! Service Required!\""
      ],
      "metadata": {
        "id": "tPwsDeN6zpSK"
      }
    },
    {
      "cell_type": "code",
      "source": [
        "# TODO: додатковий метод service_alert"
      ],
      "metadata": {
        "id": "G0dKjZUr0cSm"
      },
      "execution_count": null,
      "outputs": []
    },
    {
      "cell_type": "markdown",
      "source": [
        "# Приклади для самоперевірки\n"
      ],
      "metadata": {
        "id": "zj0daSLM0fKx"
      }
    },
    {
      "cell_type": "code",
      "source": [
        "bus = Bus(max_speed=120.0, mileage=15000)\n",
        "print(bus.describe())\n",
        "bus.drive(1200)\n",
        "print(bus.describe())\n",
        "print(\"Price:\", bus.rental_price())\n",
        "# print(bus.service_alert())\n",
        "\n",
        "car = Car(max_speed=180.0, mileage=8000, capacity=4)\n",
        "print(car.describe())\n",
        "print(\"Price:\", car.rental_price())\n",
        "# print(car.service_alert())"
      ],
      "metadata": {
        "id": "-ZKHnLxfz-tD"
      },
      "execution_count": null,
      "outputs": []
    }
  ]
}