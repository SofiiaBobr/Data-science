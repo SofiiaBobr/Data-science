{
  "nbformat": 4,
  "nbformat_minor": 0,
  "metadata": {
    "colab": {
      "provenance": [],
      "include_colab_link": true
    },
    "kernelspec": {
      "name": "python3",
      "display_name": "Python 3"
    },
    "language_info": {
      "name": "python"
    }
  },
  "cells": [
    {
      "cell_type": "markdown",
      "metadata": {
        "id": "view-in-github",
        "colab_type": "text"
      },
      "source": [
        "<a href=\"https://colab.research.google.com/github/SofiiaBobr/Data-science/blob/main/%D0%9A%D0%BE%D0%BF%D1%96%D1%8F_%D0%B7%D0%B0%D0%BF%D0%B8%D1%81%D0%BD%D0%B8%D0%BA%D0%B0_%22%D0%94%D0%BE%D0%BC%D0%B0%D1%88%D0%BD%D1%94_%D0%B7%D0%B0%D0%B2%D0%B4%D0%B0%D0%BD%D0%BD%D1%8F_2_ipynb%22.ipynb\" target=\"_parent\"><img src=\"https://colab.research.google.com/assets/colab-badge.svg\" alt=\"Open In Colab\"/></a>"
      ]
    },
    {
      "cell_type": "markdown",
      "source": [
        "# 📘 Домашнє завдання №2\n",
        "**Заняття 5. ООП. Частина 2**\n",
        "\n",
        "❗ У назві файлу має бути ваше ім’я з навчальної платформи."
      ],
      "metadata": {
        "id": "yMbxCM0_AC4I"
      }
    },
    {
      "cell_type": "markdown",
      "source": [
        "## 1. Створення базового класу (5 балів)\n",
        "\n",
        "Створіть клас `Vehicle`, який описує транспортний засіб.\n",
        "\n",
        "### При ініціалізації об'єкт має приймати:\n",
        "- `vehicle_type` — тип авто (наприклад, \"Bus\", \"Car\") — тип `str`\n",
        "- `max_speed` — максимальна швидкість — тип `float`\n",
        "- `mileage` — пробіг — тип `int`\n",
        "\n",
        "### Реалізуйте метод:\n",
        "- `describe()` — повертає рядок з описом авто. Має виглядати так:\n",
        "> `Type: Bus, Max Speed: 120.0 km/h, Mileage: 15000 km`"
      ],
      "metadata": {
        "id": "gb749KSVwrfU"
      }
    },
    {
      "cell_type": "code",
      "source": [
        "# TODO: реалізуйте клас Vehicle тут\n",
        "class Vehicle:\n",
        "    def __init__(self, vehicle_type: str, max_speed: float, mileage: int):\n",
        "        self.vehicle_type = vehicle_type\n",
        "        self.max_speed = max_speed\n",
        "        self.mileage = mileage\n",
        "\n",
        "    def describe(self):\n",
        "        return f\"Type: {self.vehicle_type}, Max Speed: {self.max_speed} km/h, Mileage: {self.mileage} km\"\n",
        "\n",
        "\n",
        "v1 = Vehicle(\"Bus\", 120.0, 15000)\n",
        "print(v1.describe())\n"
      ],
      "metadata": {
        "id": "cYNcx8k5wsen",
        "colab": {
          "base_uri": "https://localhost:8080/"
        },
        "outputId": "e7ab7e40-3532-4d41-908d-ef08439956d8"
      },
      "execution_count": 2,
      "outputs": [
        {
          "output_type": "stream",
          "name": "stdout",
          "text": [
            "Type: Bus, Max Speed: 120.0 km/h, Mileage: 15000 km\n"
          ]
        }
      ]
    },
    {
      "cell_type": "markdown",
      "source": [
        "## 2. Наслідування та додаткові атрибути (8 балів)\n",
        "\n",
        "### Клас `Bus` (4 бали)\n",
        "Створіть клас `Bus`, який **наслідує** `Vehicle`.\n",
        "\n",
        "Додайте атрибут:\n",
        "- `capacity` — кількість пасажирів (за замовчуванням = 50)\n",
        "\n",
        "### Клас `Car` (4 бали)\n",
        "Створіть клас `Car`, який **наслідує** `Vehicle`.\n",
        "\n",
        "Додайте атрибут:\n",
        "- `color` — колір авто. **Усі автівки мають бути білими** (атрибут **класу**, а не екземпляра)\n",
        "\n",
        "> **Увага!** Метод `describe()` повинен видавати також нову інформацію про `capacity` чи `color`.  \n",
        "> Тобто дочірні класи мають **перевизначити** (`override`) метод `describe()`!"
      ],
      "metadata": {
        "id": "9ZxbiCyww9hj"
      }
    },
    {
      "cell_type": "code",
      "source": [
        "class Bus(Vehicle):\n",
        "    def __init__(self, max_speed: float, mileage: int, capacity: int = 50):\n",
        "        super().__init__(\"Bus\", max_speed, mileage)\n",
        "        self.capacity = capacity\n",
        "\n",
        "    def describe(self):\n",
        "        base_description = super().describe()\n",
        "        return f\"{base_description}, Capacity: {self.capacity} passengers\"\n",
        "\n",
        "\n",
        "class Car(Vehicle):\n",
        "    color = \"White\"\n",
        "\n",
        "    def __init__(self, max_speed: float, mileage: int):\n",
        "        super().__init__(\"Car\", max_speed, mileage)\n",
        "\n",
        "    def describe(self):\n",
        "        base_description = super().describe()\n",
        "        return f\"{base_description}, Color: {Car.color}\"\n",
        "\n",
        "bus = Bus(max_speed=120.0, mileage=15000)\n",
        "print(bus.describe())\n",
        "\n",
        "\n",
        "car = Car(max_speed=180.0, mileage=8000)\n",
        "print(car.describe())\n",
        "\n",
        "\n"
      ],
      "metadata": {
        "id": "JMIyfpgyw-nK",
        "colab": {
          "base_uri": "https://localhost:8080/"
        },
        "outputId": "aab09c1d-da7f-4c15-cd94-2cfb90bb41a8"
      },
      "execution_count": 5,
      "outputs": [
        {
          "output_type": "stream",
          "name": "stdout",
          "text": [
            "Type: Bus, Max Speed: 120.0 km/h, Mileage: 15000 km, Capacity: 50 passengers\n",
            "Type: Car, Max Speed: 180.0 km/h, Mileage: 8000 km, Color: White\n"
          ]
        }
      ]
    },
    {
      "cell_type": "markdown",
      "source": [
        "## 3. Орендна плата (4 бали)\n",
        "\n",
        "Реалізуйте метод `rental_price()`, який розраховує орендну плату.\n",
        "\n",
        "### Правила:\n",
        "- За замовчуванням метод має повертати ціну, як кількість місць піднесену до квадрату для кожного дочірнього класу, тобто `capacity ** 2`\n",
        "- Проте, для класу `Bus`, якщо `capacity > 10`, додайте +10% до ціни\n",
        "\n",
        "> **Підказка**: Створіть метод `rental_price()` в `Vehicle`, який буде базовим (можна з `hasattr()` для перевірки наявності `capacity`).  \n",
        "> Але в `Bus` потрібно **перевизначити** метод!"
      ],
      "metadata": {
        "id": "h4iAYWsvxZGb"
      }
    },
    {
      "cell_type": "code",
      "source": [
        "class Vehicle:\n",
        "    def __init__(self, vehicle_type: str, max_speed: float, mileage: int):\n",
        "        self.vehicle_type = vehicle_type\n",
        "        self.max_speed = max_speed\n",
        "        self.mileage = mileage\n",
        "\n",
        "    def describe(self):\n",
        "        return f\"Type: {self.vehicle_type}, Max Speed: {self.max_speed} km/h, Mileage: {self.mileage} km\"\n",
        "\n",
        "    def rental_price(self):\n",
        "        if hasattr(self, 'capacity'):\n",
        "            return self.capacity ** 2\n",
        "        return 0\n",
        "\n",
        "    def drive(self, km: int):\n",
        "        if isinstance(km, int) and km > 0:\n",
        "            self.mileage += km\n",
        "        else:\n",
        "            print(\"Invalid distance. Please enter a positive integer.\")\n",
        "\n",
        "    def service_alert(self):\n",
        "        count = self.mileage // 10000\n",
        "        if count == 0:\n",
        "            return \"No Service Required!\"\n",
        "        else:\n",
        "            return \" \".join([\"Service Required!\"] * count)\n",
        "\n",
        "\n",
        "\n",
        "\n",
        "\n",
        "v1 = Vehicle(\"Bus\", 100.0, 9500)\n",
        "print(v1.service_alert())\n",
        "v2 = Vehicle(\"Bus\", 100.0, 30200)\n",
        "print(v2.service_alert())\n"
      ],
      "metadata": {
        "id": "zXqr-eu8yW_k",
        "colab": {
          "base_uri": "https://localhost:8080/"
        },
        "outputId": "3bac4028-cf0d-482f-fcc7-3c46816dfc45"
      },
      "execution_count": 11,
      "outputs": [
        {
          "output_type": "stream",
          "name": "stdout",
          "text": [
            "No Service Required!\n",
            "Service Required! Service Required! Service Required!\n"
          ]
        }
      ]
    },
    {
      "cell_type": "markdown",
      "source": [
        "## 4. Зміна пробігу (3 бали)\n",
        "\n",
        "Додайте до класу `Vehicle` метод, який:  \n",
        " - приймає параметр `km` — ціле число\n",
        " - збільшує `mileage` на цю кількість.  \n",
        "\n",
        "🔔Перевірити себе:\n",
        "```\n",
        ">>> vehicle1.describe()\n",
        "Type: Bus, Max Speed: 120.0 km/h, Mileage: 15000 km\n",
        ">>> vehicle1.drive(1200)\n",
        ">>> vehicle1.describe()\n",
        "Type: Bus, Max Speed: 120.0 km/h, Mileage: 16200 km\n",
        "\n",
        "```"
      ],
      "metadata": {
        "id": "OvMjs79hypn6"
      }
    },
    {
      "cell_type": "code",
      "source": [
        "\n",
        "class Bus(Vehicle):\n",
        "    def __init__(self, max_speed: float, mileage: int, capacity: int = 50):\n",
        "        super().__init__(\"Bus\", max_speed, mileage)\n",
        "        self.capacity = capacity\n",
        "\n",
        "    def describe(self):\n",
        "        base_description = super().describe()\n",
        "        return f\"{base_description}, Capacity: {self.capacity} passengers\"\n",
        "\n",
        "    def rental_price(self):\n",
        "        base_price = self.capacity ** 2\n",
        "        if self.capacity > 10:\n",
        "            return base_price * 1.1\n",
        "        return base_price\n",
        "\n",
        "\n",
        "\n",
        "class Vehicle:\n",
        "    def __init__(self, vehicle_type: str, max_speed: float, mileage: int):\n",
        "        self.vehicle_type = vehicle_type\n",
        "        self.max_speed = max_speed\n",
        "        self.mileage = mileage\n",
        "\n",
        "    def describe(self):\n",
        "        return f\"Type: {self.vehicle_type}, Max Speed: {self.max_speed} km/h, Mileage: {self.mileage} km\"\n",
        "\n",
        "    def rental_price(self):\n",
        "        if hasattr(self, 'capacity'):\n",
        "            return self.capacity ** 2\n",
        "        return 0\n",
        "\n",
        "    def drive(self, km: int):\n",
        "        if isinstance(km, int) and km > 0:\n",
        "            self.mileage += km\n",
        "        else:\n",
        "            print(\"Invalid distance. Please enter a positive integer.\")\n",
        "\n",
        "    def service_alert(self):\n",
        "        count = self.mileage // 10000\n",
        "        if count == 0:\n",
        "            return \"No Service Required!\"\n",
        "        else:\n",
        "            return \" \".join([\"Service Required!\"] * count)\n",
        "\n",
        "\n",
        "\n",
        "class Car(Vehicle):\n",
        "    color = \"White\"\n",
        "\n",
        "    def __init__(self, max_speed: float, mileage: int, capacity: int = 4):\n",
        "        super().__init__(\"Car\", max_speed, mileage)\n",
        "        self.capacity = capacity\n",
        "\n",
        "    def describe(self):\n",
        "        base_description = super().describe()\n",
        "        return f\"{base_description}, Color: {Car.color}\"\n",
        "\n",
        "    # Метод rental_price() буде використовуватись із Vehicle\n",
        "\n",
        "\n",
        "\n",
        "\n",
        "bus = Bus(max_speed=120.0, mileage=15000)\n",
        "print(bus.describe())\n",
        "\n",
        "bus.drive(1200)\n",
        "print(bus.describe())\n",
        "\n",
        "print(\"Bus rental price:\", bus.rental_price())\n",
        "\n",
        "\n",
        "print(\"Bus service alert:\", bus.service_alert())\n",
        "\n",
        "\n",
        "print()\n",
        "\n",
        "car = Car(max_speed=180.0, mileage=8000, capacity=4)\n",
        "print(car.describe())\n",
        "\n",
        "\n",
        "print(\"Car rental price:\", car.rental_price())\n",
        "\n",
        "\n",
        "print(\"Car service alert:\", car.service_alert())\n",
        "\n"
      ],
      "metadata": {
        "id": "XjRGUBNSxYuU",
        "colab": {
          "base_uri": "https://localhost:8080/"
        },
        "outputId": "9292824f-fadf-4832-f1a0-bd16bcfb9394"
      },
      "execution_count": 15,
      "outputs": [
        {
          "output_type": "stream",
          "name": "stdout",
          "text": [
            "Type: Bus, Max Speed: 120.0 km/h, Mileage: 15000 km, Capacity: 50 passengers\n",
            "Type: Bus, Max Speed: 120.0 km/h, Mileage: 16200 km, Capacity: 50 passengers\n",
            "Bus rental price: 2750.0\n",
            "Bus service alert: Service Required!\n",
            "\n",
            "Type: Car, Max Speed: 180.0 km/h, Mileage: 8000 km, Color: White\n",
            "Car rental price: 16\n",
            "Car service alert: No Service Required!\n"
          ]
        }
      ]
    },
    {
      "cell_type": "markdown",
      "source": [
        "## 5. Додаткове (необов’язкове)\n",
        "\n",
        "Створіть метод `service_alert()` у класі `Vehicle`, який залежно від пробігу автомобіля, буде видавати месседж **“Service Required!”** стільки разів, скільки дорівнює ціла частка від ділення пробігу на 10000.\n",
        ">Приклад:\n",
        ">mileage = 9500 → \"No Service Required!\"\n",
        ">mileage = 10000 → \"Service Required!\"\n",
        ">mileage = 30200 → \"Service Required! Service Required! Service Required!\""
      ],
      "metadata": {
        "id": "tPwsDeN6zpSK"
      }
    },
    {
      "cell_type": "code",
      "source": [
        "class Vehicle:\n",
        "    def __init__(self, vehicle_type: str, max_speed: float, mileage: int):\n",
        "        self.vehicle_type = vehicle_type\n",
        "        self.max_speed = max_speed\n",
        "        self.mileage = mileage\n",
        "\n",
        "    def describe(self):\n",
        "        return f\"Type: {self.vehicle_type}, Max Speed: {self.max_speed} km/h, Mileage: {self.mileage} km\"\n",
        "\n",
        "    def rental_price(self):\n",
        "        if hasattr(self, 'capacity'):\n",
        "            return self.capacity ** 2\n",
        "        return 0\n",
        "\n",
        "    def drive(self, km: int):\n",
        "        if isinstance(km, int) and km > 0:\n",
        "            self.mileage += km\n",
        "        else:\n",
        "            print(\"Invalid distance. Please enter a positive integer.\")\n",
        "\n",
        "    def service_alert(self):\n",
        "        count = self.mileage // 10000\n",
        "        if count == 0:\n",
        "            return \"No Service Required!\"\n",
        "        else:\n",
        "            return \" \".join([\"Service Required!\"] * count)\n",
        "\n",
        "\n",
        "class Bus(Vehicle):\n",
        "    def __init__(self, max_speed: float, mileage: int, capacity: int = 50):\n",
        "        super().__init__(\"Bus\", max_speed, mileage)\n",
        "        self.capacity = capacity\n",
        "\n",
        "    def describe(self):\n",
        "        base_description = super().describe()\n",
        "        return f\"{base_description}, Capacity: {self.capacity} passengers\"\n",
        "\n",
        "    def rental_price(self):\n",
        "        base_price = self.capacity ** 2\n",
        "        if self.capacity > 10:\n",
        "            return base_price * 1.1\n",
        "        return base_price\n",
        "\n",
        "\n",
        "class Car(Vehicle):\n",
        "    color = \"White\"\n",
        "\n",
        "    def __init__(self, max_speed: float, mileage: int, capacity: int = 4):\n",
        "        super().__init__(\"Car\", max_speed, mileage)\n",
        "        self.capacity = capacity\n",
        "\n",
        "    def describe(self):\n",
        "        base_description = super().describe()\n",
        "        return f\"{base_description}, Color: {Car.color}\"\n",
        "\n",
        "\n",
        "bus = Bus(max_speed=120.0, mileage=15000)\n",
        "print(bus.describe())\n",
        "bus.drive(1200)\n",
        "print(bus.describe())\n",
        "print(\"Bus rental price:\", bus.rental_price())\n",
        "print(\"Bus service alert:\", bus.service_alert())\n",
        "\n",
        "print()\n",
        "\n",
        "car = Car(max_speed=180.0, mileage=8000, capacity=4)\n",
        "print(car.describe())\n",
        "print(\"Car rental price:\", car.rental_price())\n",
        "print(\"Car service alert:\", car.service_alert())\n"
      ],
      "metadata": {
        "id": "G0dKjZUr0cSm",
        "colab": {
          "base_uri": "https://localhost:8080/"
        },
        "outputId": "54af1a56-362a-4377-a396-666169a0001a"
      },
      "execution_count": 16,
      "outputs": [
        {
          "output_type": "stream",
          "name": "stdout",
          "text": [
            "Type: Bus, Max Speed: 120.0 km/h, Mileage: 15000 km, Capacity: 50 passengers\n",
            "Type: Bus, Max Speed: 120.0 km/h, Mileage: 16200 km, Capacity: 50 passengers\n",
            "Bus rental price: 2750.0\n",
            "Bus service alert: Service Required!\n",
            "\n",
            "Type: Car, Max Speed: 180.0 km/h, Mileage: 8000 km, Color: White\n",
            "Car rental price: 16\n",
            "Car service alert: No Service Required!\n"
          ]
        }
      ]
    },
    {
      "cell_type": "markdown",
      "source": [
        "# Приклади для самоперевірки\n"
      ],
      "metadata": {
        "id": "zj0daSLM0fKx"
      }
    },
    {
      "cell_type": "code",
      "source": [
        "bus = Bus(max_speed=120.0, mileage=15000)\n",
        "print(bus.describe())\n",
        "bus.drive(1200)\n",
        "print(bus.describe())\n",
        "print(\"Price:\", bus.rental_price())\n",
        "# print(bus.service_alert())\n",
        "\n",
        "car = Car(max_speed=180.0, mileage=8000, capacity=4)\n",
        "print(car.describe())\n",
        "print(\"Price:\", car.rental_price())\n",
        "# print(car.service_alert())"
      ],
      "metadata": {
        "id": "-ZKHnLxfz-tD"
      },
      "execution_count": null,
      "outputs": []
    }
  ]
}