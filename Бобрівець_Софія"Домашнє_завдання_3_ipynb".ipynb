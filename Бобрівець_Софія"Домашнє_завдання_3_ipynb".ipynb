{
  "nbformat": 4,
  "nbformat_minor": 0,
  "metadata": {
    "colab": {
      "provenance": [],
      "include_colab_link": true
    },
    "kernelspec": {
      "name": "python3",
      "display_name": "Python 3"
    },
    "language_info": {
      "name": "python"
    }
  },
  "cells": [
    {
      "cell_type": "markdown",
      "metadata": {
        "id": "view-in-github",
        "colab_type": "text"
      },
      "source": [
        "<a href=\"https://colab.research.google.com/github/SofiiaBobr/Data-science/blob/main/%D0%91%D0%BE%D0%B1%D1%80%D1%96%D0%B2%D0%B5%D1%86%D1%8C_%D0%A1%D0%BE%D1%84%D1%96%D1%8F%22%D0%94%D0%BE%D0%BC%D0%B0%D1%88%D0%BD%D1%94_%D0%B7%D0%B0%D0%B2%D0%B4%D0%B0%D0%BD%D0%BD%D1%8F_3_ipynb%22.ipynb\" target=\"_parent\"><img src=\"https://colab.research.google.com/assets/colab-badge.svg\" alt=\"Open In Colab\"/></a>"
      ]
    },
    {
      "cell_type": "markdown",
      "source": [
        "# 📘 Домашнє завдання №3\n",
        "**Заняття 7. Функціональне програмування**\n",
        "\n",
        "❗ У назві файлу має бути ваше ім’я з навчальної платформи."
      ],
      "metadata": {
        "id": "AyebdpeiAHg5"
      }
    },
    {
      "cell_type": "markdown",
      "source": [
        "---\n",
        "**Для настпуних завданнь за допомогою `input()` зчитайте натуральне число `N`.**\n",
        "\n",
        "---"
      ],
      "metadata": {
        "id": "ZtPm9j-dwnL_"
      }
    },
    {
      "cell_type": "markdown",
      "source": [
        "## 1. Квадрати чисел (через цикл) — 3 бали\n",
        "Створіть функцію `generate_squares(n)`, яка:\n",
        "- приймає натуральне число `n`\n",
        "- створює список з N послідовних натуральних чисел, починаючи з 1\n",
        "- поверне список з квадратів цих натуральних чисел.\n",
        "\n",
        "\n",
        "📌 Приклад виклику:\n",
        "```python\n",
        "generate_squares(5)  # [1, 4, 9, 16, 25]\n",
        "```"
      ],
      "metadata": {
        "id": "4ufIfldpwUCy"
      }
    },
    {
      "cell_type": "code",
      "execution_count": 1,
      "metadata": {
        "id": "dfQ8vCx3u5IY",
        "colab": {
          "base_uri": "https://localhost:8080/"
        },
        "outputId": "0ed2177c-e016-4f31-ebe2-aff8a4c24b3a"
      },
      "outputs": [
        {
          "output_type": "stream",
          "name": "stdout",
          "text": [
            "[1, 4, 9, 16, 25]\n"
          ]
        }
      ],
      "source": [
        "def generate_squares(n):\n",
        "    squares = []\n",
        "    for i in range(1, n + 1):\n",
        "        squares.append(i ** 2)\n",
        "    return squares\n",
        "\n",
        "\n",
        "print(generate_squares(5))\n"
      ]
    },
    {
      "cell_type": "markdown",
      "source": [
        "# 2. Те саме, але через `map()` — 5 балів\n",
        "Реалізуйте попередню задачу, використовуючи функцію `map()`.\n",
        "\n",
        "📌 Приклад виклику:\n",
        "```python\n",
        "generate_squares_map(5)  # [1, 4, 9, 16, 25]\n",
        "```"
      ],
      "metadata": {
        "id": "uYjw85gKxT7-"
      }
    },
    {
      "cell_type": "code",
      "source": [
        "def generate_squares_map(n):\n",
        "    return list(map(lambda x: x ** 2, range(1, n + 1)))\n",
        "\n",
        "\n",
        "print(generate_squares_map(5))\n"
      ],
      "metadata": {
        "id": "c3tujJ9UxlgH",
        "colab": {
          "base_uri": "https://localhost:8080/"
        },
        "outputId": "77fb8c51-e013-4c32-c1dd-fabffc18d8bb"
      },
      "execution_count": 2,
      "outputs": [
        {
          "output_type": "stream",
          "name": "stdout",
          "text": [
            "[1, 4, 9, 16, 25]\n"
          ]
        }
      ]
    },
    {
      "cell_type": "markdown",
      "source": [
        "## 3: Те саме, але через list comprehension — 5 балів\n",
        "Реалізуйте задачу з пункту 1, використовуючи **[list comprehension](https://docs.python.org/2/tutorial/datastructures.html#list-comprehensions)**.\n",
        "\n",
        "📌 Приклад виклику:\n",
        "```python\n",
        "generate_squares_lc(5)  # [1, 4, 9, 16, 25]\n",
        "```"
      ],
      "metadata": {
        "id": "T4Ct8Bbpxobp"
      }
    },
    {
      "cell_type": "code",
      "source": [
        "def generate_squares_lc(n):\n",
        "    return [x ** 2 for x in range(1, n + 1)]\n",
        "\n",
        "\n",
        "print(generate_squares_lc(5))\n"
      ],
      "metadata": {
        "id": "d2rE-3QgxoIa",
        "colab": {
          "base_uri": "https://localhost:8080/"
        },
        "outputId": "777510fc-6015-4303-d979-9d46897e5688"
      },
      "execution_count": 3,
      "outputs": [
        {
          "output_type": "stream",
          "name": "stdout",
          "text": [
            "[1, 4, 9, 16, 25]\n"
          ]
        }
      ]
    },
    {
      "cell_type": "markdown",
      "source": [
        "## 4: Квадрати натуральних чисел — 7 балів\n",
        "Створіть функцію `perfect_squares(n)`, яка:\n",
        "- створить список з `n` послідовних натуральних чисел, починаючи з 1\n",
        "- повертає список **тільки тих чисел**, які є квадратами якогось натурального числа\n",
        "\n",
        "📌 Приклад виклику:\n",
        "```python\n",
        "perfect_squares(20)  # [1, 4, 9, 16]\n",
        "```"
      ],
      "metadata": {
        "id": "A2bdaFHByUUx"
      }
    },
    {
      "cell_type": "code",
      "source": [
        "def perfect_squares(n):\n",
        "    numbers = list(range(1, n + 1))\n",
        "    result = [x for x in numbers if int(x ** 0.5) ** 2 == x]\n",
        "    return result\n",
        "\n",
        "print(perfect_squares(20))\n"
      ],
      "metadata": {
        "id": "EYEGN-9WyUGb",
        "colab": {
          "base_uri": "https://localhost:8080/"
        },
        "outputId": "66e33c61-eaf1-411d-81b5-fabe19da5394"
      },
      "execution_count": 4,
      "outputs": [
        {
          "output_type": "stream",
          "name": "stdout",
          "text": [
            "[1, 4, 9, 16]\n"
          ]
        }
      ]
    },
    {
      "cell_type": "markdown",
      "source": [
        "## ⭐ Додаткове завдання: Лямбда-функція — необов’язкове\n",
        "Створіть **лямбда-функцію** `is_in_range`, яка перевіряє, чи входить число `n` в діапазон `[a, b]`."
      ],
      "metadata": {
        "id": "yDriiieIyuY3"
      }
    },
    {
      "cell_type": "code",
      "source": [
        "is_in_range = lambda n, a, b: a <= n <= b\n",
        "# Зчитування натурального числа N\n",
        "N = int(input(\"Введіть натуральне число N: \"))\n",
        "\n",
        "print(\"generate_squares:\", generate_squares(N))\n",
        "print(\"generate_squares_map:\", generate_squares_map(N))\n",
        "print(\"generate_squares_lc:\", generate_squares_lc(N))\n",
        "print(\"perfect_squares:\", perfect_squares(N))\n",
        "\n",
        "# Перевірка лямбда-функції\n",
        "a = int(input(\"Введіть початок діапазону a: \"))\n",
        "b = int(input(\"Введіть кінець діапазону b: \"))\n",
        "n = int(input(\"Введіть число для перевірки n: \"))\n",
        "print(f\"is_in_range({n}, {a}, {b}):\", is_in_range(n, a, b))\n"
      ],
      "metadata": {
        "id": "udPYlseQzA8d",
        "colab": {
          "base_uri": "https://localhost:8080/"
        },
        "outputId": "fcb0d6e6-db47-438a-f47c-10d4692dab4e"
      },
      "execution_count": 6,
      "outputs": [
        {
          "output_type": "stream",
          "name": "stdout",
          "text": [
            "Введіть натуральне число N: 7\n",
            "generate_squares: [1, 4, 9, 16, 25, 36, 49]\n",
            "generate_squares_map: [1, 4, 9, 16, 25, 36, 49]\n",
            "generate_squares_lc: [1, 4, 9, 16, 25, 36, 49]\n",
            "perfect_squares: [1, 4]\n",
            "Введіть початок діапазону a: 1\n",
            "Введіть кінець діапазону b: 90\n",
            "Введіть число для перевірки n: 7\n",
            "is_in_range(7, 1, 90): True\n"
          ]
        }
      ]
    },
    {
      "cell_type": "markdown",
      "source": [
        "# Перевірити себе\n"
      ],
      "metadata": {
        "id": "F86OGn_szEvh"
      }
    },
    {
      "cell_type": "code",
      "source": [
        "# Перевірка всіх функцій:\n",
        "N = # зчитайте змінну тут\n",
        "print(\"generate_squares:\", generate_squares(N))\n",
        "print(\"generate_squares_map:\", generate_squares_map(N))\n",
        "print(\"generate_squares_lc:\", generate_squares_lc(N))\n",
        "print(\"perfect_squares:\", perfect_squares(N))"
      ],
      "metadata": {
        "id": "vYnzPWkAzEhY"
      },
      "execution_count": null,
      "outputs": []
    }
  ]
}