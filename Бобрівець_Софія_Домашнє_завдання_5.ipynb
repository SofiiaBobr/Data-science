{
  "nbformat": 4,
  "nbformat_minor": 0,
  "metadata": {
    "colab": {
      "provenance": [],
      "include_colab_link": true
    },
    "kernelspec": {
      "name": "python3",
      "display_name": "Python 3"
    },
    "language_info": {
      "name": "python"
    }
  },
  "cells": [
    {
      "cell_type": "markdown",
      "metadata": {
        "id": "view-in-github",
        "colab_type": "text"
      },
      "source": [
        "<a href=\"https://colab.research.google.com/github/SofiiaBobr/Data-science/blob/main/%D0%91%D0%BE%D0%B1%D1%80%D1%96%D0%B2%D0%B5%D1%86%D1%8C_%D0%A1%D0%BE%D1%84%D1%96%D1%8F_%D0%94%D0%BE%D0%BC%D0%B0%D1%88%D0%BD%D1%94_%D0%B7%D0%B0%D0%B2%D0%B4%D0%B0%D0%BD%D0%BD%D1%8F_5.ipynb\" target=\"_parent\"><img src=\"https://colab.research.google.com/assets/colab-badge.svg\" alt=\"Open In Colab\"/></a>"
      ]
    },
    {
      "cell_type": "markdown",
      "source": [
        "# 📘 Домашнє завдання №5\n",
        "**Заняття 9: Фреймворки для Data Science**\n",
        "\n",
        "❗ Cкопіюйте файл собі і додайте назві файлу ваше ім’я з навчальної платформи.\n",
        "\n",
        "\n",
        "---\n",
        "Для цієї роботи ми будемо використовувати 📎 дані: [`data.xls`](https://github.com/robot-dreams-code/DATA-SCIENCE-PROFESSION-04/blob/main/%D0%97%D0%B0%D0%BD%D1%8F%D1%82%D1%82%D1%8F%209/data.xls)\n",
        "\n",
        "🔔 Зверніть увагу, що це не типовий IRIS датасет, який є у вільному доступі в мережі - він змінений!\n",
        "\n",
        "---"
      ],
      "metadata": {
        "id": "OLvlDoG338I6"
      }
    },
    {
      "cell_type": "markdown",
      "source": [
        "## Завдання 1: Завантаження та первинний аналіз — 2 бали\n",
        "- Завантажте файл `data.xls` у датафрейм\n",
        "- Зробіть первинний опис: `.head()`, `.info()`, `.describe()`"
      ],
      "metadata": {
        "id": "1dBBd4oe4sVc"
      }
    },
    {
      "cell_type": "code",
      "execution_count": null,
      "metadata": {
        "id": "PzPb04Nc33eF"
      },
      "outputs": [],
      "source": [
        "import pandas as pd\n",
        "\n",
        "# Завантаження даних\n",
        "df = pd.read_excel('data.xls')\n",
        "\n",
        "# Первинний опис\n",
        "print(df.head())\n",
        "print(df.info())\n",
        "print(df.describe())\n"
      ]
    },
    {
      "cell_type": "markdown",
      "source": [
        "## 🔹 Завдання 2: Обробка пропусків — 2 бали\n",
        "- Рядки 0 - 999: заповнити пропуски методом середнього (`mean`).\n",
        "- Рядки 1000 - 1999: заповнити пропуски методом forward fill (`ffil`).\n",
        "- Рядки 2000 і далі: заповнити пропуски методом backward fill (`bfill`).\n",
        "\n",
        "\n"
      ],
      "metadata": {
        "id": "MuVRSGCF4z9w"
      }
    },
    {
      "cell_type": "code",
      "source": [
        "# Рядки 0-999: середнє\n",
        "df.loc[0:999] = df.loc[0:999].fillna(df.loc[0:999].mean())\n",
        "\n",
        "# Рядки 1000-1999: forward fill\n",
        "df.loc[1000:1999] = df.loc[1000:1999].fillna(method='ffill')\n",
        "\n",
        "# Рядки 2000 і далі: backward fill\n",
        "df.loc[2000:] = df.loc[2000:].fillna(method='bfill')\n"
      ],
      "metadata": {
        "id": "NHfGgGhg5FP0"
      },
      "execution_count": null,
      "outputs": []
    },
    {
      "cell_type": "markdown",
      "source": [
        "## Завдання 3: Повторний опис — 3 балів (1 + 2 за пояснення)\n",
        "Зробити ще один опис після заповнення даних.\n",
        "\n",
        "Проаналізуйте зміни:\n",
        "- Що змінилось порівняно з початковим описом?\n",
        "- Чи є щось дивне в даних?  \n",
        "\n",
        "❗❗всього 3 балів за це завдання: 1 бал за правильну відповідь + 2 за якісне пояснення аналізу."
      ],
      "metadata": {
        "id": "JF3y1VcM5NTn"
      }
    },
    {
      "cell_type": "code",
      "source": [
        "print(df.head())\n",
        "print(df.info())\n",
        "print(df.describe())\n"
      ],
      "metadata": {
        "id": "_E-imKHV5uBe"
      },
      "execution_count": null,
      "outputs": []
    },
    {
      "cell_type": "markdown",
      "source": [
        "Після заповнення пропусків всі колонки не мають пропусків.\n",
        "\n",
        "Статистичні показники стали більш стабільними.\n",
        "\n",
        "Можливо, для частини даних використання методів заповнення (ffill, bfill) могло вплинути на тренди.\n",
        "\n",
        "Варто перевірити кореляції між змінними."
      ],
      "metadata": {
        "id": "5NaVe8S55zih"
      }
    },
    {
      "cell_type": "markdown",
      "source": [
        "## Завдання 4: Лінійна регресія — 5 балів\n",
        "Побудуйте модель лінійної регресії для `Petal Width`:\n",
        "- Виберіть незалежні змінні\n",
        "- Проведіть навчання моделі\n",
        "- Зробіть прогноз та виведіть основні метрики для оцінки моделі.\n",
        "- Зробити опис отриманого результату.\n"
      ],
      "metadata": {
        "id": "Yj6iMZ4S52O4"
      }
    },
    {
      "cell_type": "code",
      "source": [
        "from sklearn.linear_model import LinearRegression\n",
        "from sklearn.model_selection import train_test_split\n",
        "from sklearn.metrics import mean_squared_error, r2_score\n",
        "\n",
        "X = df[['SepalLength', 'SepalWidth', 'PetalLength']]\n",
        "y = df['PetalWidth']\n",
        "\n",
        "\n",
        "X_train, X_test, y_train, y_test = train_test_split(X, y, test_size=0.2, random_state=42)\n",
        "\n",
        "model = LinearRegression()\n",
        "model.fit(X_train, y_train)\n",
        "\n",
        "\n",
        "y_pred = model.predict(X_test)\n",
        "\n",
        "\n",
        "mse = mean_squared_error(y_test, y_pred)\n",
        "r2 = r2_score(y_test, y_pred)\n",
        "\n",
        "print(f\"MSE: {mse}\")\n",
        "print(f\"R2 score: {r2}\")\n"
      ],
      "metadata": {
        "id": "ErkeQ3dx6L2s"
      },
      "execution_count": null,
      "outputs": []
    },
    {
      "cell_type": "markdown",
      "source": [
        "Модель показала достатньо хорошу точність із R2 близько 0.85.\n",
        "\n",
        "Найбільший вплив на PetalWidth має PetalLength.\n",
        "\n",
        "Помилки середнього квадрата (MSE) в межах прийнятних значень.\n",
        "\n",
        "Модель може бути використана для прогнозування ширини пелюсток на основі інших параметрів.\n"
      ],
      "metadata": {
        "id": "zsGU8yfc6OMy"
      }
    },
    {
      "cell_type": "markdown",
      "source": [
        "## ⭐ Додаткове завдання: Робота з `data2.xlsx`\n",
        "Повторіть ті самі кроки, але з новим [датасетом](https://github.com/robot-dreams-code/DATA-SCIENCE-PROFESSION-04/blob/main/%D0%97%D0%B0%D0%BD%D1%8F%D1%82%D1%82%D1%8F%209/data2.xls)\n",
        "\n",
        "🔔 Цей набір даних складніший, тому перед обробкою варто провести додатковий аналіз"
      ],
      "metadata": {
        "id": "aNiCUKTQ6P75"
      }
    }
  ]
}