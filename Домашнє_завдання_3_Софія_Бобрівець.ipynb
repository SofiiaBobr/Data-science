{
  "nbformat": 4,
  "nbformat_minor": 0,
  "metadata": {
    "colab": {
      "provenance": [],
      "include_colab_link": true
    },
    "kernelspec": {
      "name": "python3",
      "display_name": "Python 3"
    },
    "language_info": {
      "name": "python"
    }
  },
  "cells": [
    {
      "cell_type": "markdown",
      "metadata": {
        "id": "view-in-github",
        "colab_type": "text"
      },
      "source": [
        "<a href=\"https://colab.research.google.com/github/SofiiaBobr/Data-science/blob/main/%D0%94%D0%BE%D0%BC%D0%B0%D1%88%D0%BD%D1%94_%D0%B7%D0%B0%D0%B2%D0%B4%D0%B0%D0%BD%D0%BD%D1%8F_3_%D0%A1%D0%BE%D1%84%D1%96%D1%8F_%D0%91%D0%BE%D0%B1%D1%80%D1%96%D0%B2%D0%B5%D1%86%D1%8C.ipynb\" target=\"_parent\"><img src=\"https://colab.research.google.com/assets/colab-badge.svg\" alt=\"Open In Colab\"/></a>"
      ]
    },
    {
      "cell_type": "markdown",
      "source": [
        "# 📘 Домашнє завдання №3\n",
        "**Заняття 7. Функціональне програмування**\n",
        "\n",
        "❗ У назві файлу має бути ваше ім’я з навчальної платформи."
      ],
      "metadata": {
        "id": "AyebdpeiAHg5"
      }
    },
    {
      "cell_type": "markdown",
      "source": [
        "---\n",
        "**Для настпуних завданнь за допомогою `input()` зчитайте натуральне число `N`.**\n",
        "\n",
        "---"
      ],
      "metadata": {
        "id": "ZtPm9j-dwnL_"
      }
    },
    {
      "cell_type": "markdown",
      "source": [
        "## 1. Квадрати чисел (через цикл) — 3 бали\n",
        "Створіть функцію `generate_squares(n)`, яка:\n",
        "- приймає натуральне число `n`\n",
        "- створює список з N послідовних натуральних чисел, починаючи з 1\n",
        "- поверне список з квадратів цих натуральних чисел.\n",
        "\n",
        "\n",
        "📌 Приклад виклику:\n",
        "```python\n",
        "generate_squares(5)  # [1, 4, 9, 16, 25]\n",
        "```"
      ],
      "metadata": {
        "id": "4ufIfldpwUCy"
      }
    },
    {
      "cell_type": "code",
      "execution_count": null,
      "metadata": {
        "id": "dfQ8vCx3u5IY"
      },
      "outputs": [],
      "source": [
        "# Ваш код тут:\n",
        "def generate_squares(n):\n",
        "    pass  # реалізація"
      ]
    },
    {
      "cell_type": "markdown",
      "source": [
        "# 2. Те саме, але через `map()` — 5 балів\n",
        "Реалізуйте попередню задачу, використовуючи функцію `map()`.\n",
        "\n",
        "📌 Приклад виклику:\n",
        "```python\n",
        "generate_squares_map(5)  # [1, 4, 9, 16, 25]\n",
        "```"
      ],
      "metadata": {
        "id": "uYjw85gKxT7-"
      }
    },
    {
      "cell_type": "code",
      "source": [
        "# Ваш код тут:\n",
        "def generate_squares_map(n):\n",
        "    pass  # реалізація"
      ],
      "metadata": {
        "id": "c3tujJ9UxlgH"
      },
      "execution_count": null,
      "outputs": []
    },
    {
      "cell_type": "markdown",
      "source": [
        "## 3: Те саме, але через list comprehension — 5 балів\n",
        "Реалізуйте задачу з пункту 1, використовуючи **[list comprehension](https://docs.python.org/2/tutorial/datastructures.html#list-comprehensions)**.\n",
        "\n",
        "📌 Приклад виклику:\n",
        "```python\n",
        "generate_squares_lc(5)  # [1, 4, 9, 16, 25]\n",
        "```"
      ],
      "metadata": {
        "id": "T4Ct8Bbpxobp"
      }
    },
    {
      "cell_type": "code",
      "source": [
        "# Ваш код тут:\n",
        "def generate_squares_lc(n):\n",
        "    pass  # реалізація"
      ],
      "metadata": {
        "id": "d2rE-3QgxoIa"
      },
      "execution_count": null,
      "outputs": []
    },
    {
      "cell_type": "markdown",
      "source": [
        "## 4: Квадрати натуральних чисел — 7 балів\n",
        "Створіть функцію `perfect_squares(n)`, яка:\n",
        "- створить список з `n` послідовних натуральних чисел, починаючи з 1\n",
        "- повертає список **тільки тих чисел**, які є квадратами якогось натурального числа\n",
        "\n",
        "📌 Приклад виклику:\n",
        "```python\n",
        "perfect_squares(20)  # [1, 4, 9, 16]\n",
        "```"
      ],
      "metadata": {
        "id": "A2bdaFHByUUx"
      }
    },
    {
      "cell_type": "code",
      "source": [
        "# Ваш код тут:\n",
        "def perfect_squares(n):\n",
        "    pass  # реалізація"
      ],
      "metadata": {
        "id": "EYEGN-9WyUGb"
      },
      "execution_count": null,
      "outputs": []
    },
    {
      "cell_type": "markdown",
      "source": [
        "## ⭐ Додаткове завдання: Лямбда-функція — необов’язкове\n",
        "Створіть **лямбда-функцію** `is_in_range`, яка перевіряє, чи входить число `n` в діапазон `[a, b]`."
      ],
      "metadata": {
        "id": "yDriiieIyuY3"
      }
    },
    {
      "cell_type": "code",
      "source": [
        "# Ваш код тут:"
      ],
      "metadata": {
        "id": "udPYlseQzA8d"
      },
      "execution_count": null,
      "outputs": []
    },
    {
      "cell_type": "markdown",
      "source": [
        "# Перевірити себе\n"
      ],
      "metadata": {
        "id": "F86OGn_szEvh"
      }
    },
    {
      "cell_type": "code",
      "source": [
        "# Перевірка всіх функцій:\n",
        "N = # зчитайте змінну тут\n",
        "print(\"generate_squares:\", generate_squares(N))\n",
        "print(\"generate_squares_map:\", generate_squares_map(N))\n",
        "print(\"generate_squares_lc:\", generate_squares_lc(N))\n",
        "print(\"perfect_squares:\", perfect_squares(N))"
      ],
      "metadata": {
        "id": "vYnzPWkAzEhY"
      },
      "execution_count": null,
      "outputs": []
    }
  ]
}