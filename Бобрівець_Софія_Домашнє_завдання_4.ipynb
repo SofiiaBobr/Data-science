{
  "nbformat": 4,
  "nbformat_minor": 0,
  "metadata": {
    "colab": {
      "provenance": [],
      "include_colab_link": true
    },
    "kernelspec": {
      "name": "python3",
      "display_name": "Python 3"
    },
    "language_info": {
      "name": "python"
    }
  },
  "cells": [
    {
      "cell_type": "markdown",
      "metadata": {
        "id": "view-in-github",
        "colab_type": "text"
      },
      "source": [
        "<a href=\"https://colab.research.google.com/github/SofiiaBobr/Data-science/blob/main/%D0%91%D0%BE%D0%B1%D1%80%D1%96%D0%B2%D0%B5%D1%86%D1%8C_%D0%A1%D0%BE%D1%84%D1%96%D1%8F_%D0%94%D0%BE%D0%BC%D0%B0%D1%88%D0%BD%D1%94_%D0%B7%D0%B0%D0%B2%D0%B4%D0%B0%D0%BD%D0%BD%D1%8F_4.ipynb\" target=\"_parent\"><img src=\"https://colab.research.google.com/assets/colab-badge.svg\" alt=\"Open In Colab\"/></a>"
      ]
    },
    {
      "cell_type": "markdown",
      "source": [
        "# 📘 Домашнє завдання №4\n",
        "**Заняття 8: Особливості та переваги Python**  \n",
        "❗ Cкопіюйте файл собі і додайте назві файлу ваше ім’я з навчальної платформи."
      ],
      "metadata": {
        "id": "_rMN91Q70TGl"
      }
    },
    {
      "cell_type": "markdown",
      "source": [
        "## 1. Встановлення та імпорт бібліотек\n",
        "\n",
        "Імпортуйте `NumPy` та `Pandas` і виведіть встановлену версію кожної.   \n",
        "*(якщо працюєте локально то не забудьте що бібліотеки мають бути спочатку інстальовані)*"
      ],
      "metadata": {
        "id": "4dp1ljdu1d0q"
      }
    },
    {
      "cell_type": "code",
      "source": [
        "import numpy as np\n",
        "import pandas as pd\n",
        "\n",
        "print(\"NumPy version:\", np.__version__)\n",
        "print(\"Pandas version:\", pd.__version__)\n"
      ],
      "metadata": {
        "id": "stFu-9rr0Urm"
      },
      "execution_count": null,
      "outputs": []
    },
    {
      "cell_type": "markdown",
      "source": [
        "## 2: Генерація випадкових чисел — 2 бали\n",
        "Згенеруйте ❗**100 разів** послідовність з ❗**100 випадкових чисел** типу `float` у діапазоні від 1 до 100.\n",
        "\n",
        "Для кожної послідовності порахуйте:\n",
        "- Середнє значення\n",
        "- Суму\n",
        "\n",
        "Збережіть усі середні та суми у два окремі списки. Виведіть обидва списки: список середніх і список сум."
      ],
      "metadata": {
        "id": "JSaLv5Ld2S7P"
      }
    },
    {
      "cell_type": "code",
      "source": [
        "means = []\n",
        "sums = []\n",
        "\n",
        "for _ in range(100):\n",
        "    seq = np.random.uniform(1, 100, 100)  # 100 чисел float від 1 до 100\n",
        "    means.append(np.mean(seq))\n",
        "    sums.append(np.sum(seq))\n",
        "\n",
        "print(\"Список середніх:\", means)\n",
        "print(\"Список сум:\", sums)\n"
      ],
      "metadata": {
        "id": "h-QGK88V1tkD"
      },
      "execution_count": null,
      "outputs": []
    },
    {
      "cell_type": "markdown",
      "source": [
        "## 3: Спостереження — 3 бали\n",
        "Проаналізуйте результати візуально.\n",
        "- Які є припущення, спостереження?\n",
        "- Які закономірності помітили?\n",
        "\n",
        "Запишіть 3–5 речень у **markdown-блоці нижче** з вашими висновками.\n",
        "\n",
        "📌 Ви можете також побудувати графік (за бажанням), використовуючи `matplotlib` або `pandas.plot()`, це може вам допомогти помітити закономірності."
      ],
      "metadata": {
        "id": "Iw5dTAlS2shw"
      }
    },
    {
      "cell_type": "markdown",
      "source": [
        "Спостереження\n",
        "\n",
        "1. Середні значення приблизно близькі до 50,5, що відповідає середньому арифметичному діапазону від 1 до 100.\n",
        "2. Сума кожної послідовності близька до 5050, що дорівнює 50.5 * 100.\n",
        "3. Розкид значень середніх та сум пов’язаний із випадковістю генерації.\n",
        "4. Результати підтверджують рівномірний розподіл чисел.\n",
        "5. Візуалізація допомогла помітити нормальний розподіл середніх навколо середнього значення.\n"
      ],
      "metadata": {
        "id": "LDqQN4iU2657"
      }
    }
  ]
}